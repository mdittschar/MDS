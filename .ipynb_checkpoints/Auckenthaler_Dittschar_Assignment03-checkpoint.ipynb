{
 "cells": [
  {
   "cell_type": "code",
   "execution_count": 85,
   "id": "40af7ee4",
   "metadata": {
    "scrolled": false
   },
   "outputs": [],
   "source": [
    "from grakel.kernels import ShortestPath\n",
    "from grakel import GraphKernel, GraphletSampling\n",
    "import numpy as np\n",
    "from sklearn.svm import SVC\n",
    "from grakel.utils import cross_validate_Kfold_SVM\n",
    "from grakel.kernels import WeisfeilerLehman, VertexHistogram\n",
    "from grakel.datasets import fetch_dataset"
   ]
  },
  {
   "cell_type": "code",
   "execution_count": 86,
   "id": "9d97b5f0",
   "metadata": {},
   "outputs": [],
   "source": [
    "# Loads MUTAG dataset\n",
    "MUTAG = fetch_dataset(\"MUTAG\", verbose=False)\n",
    "G, y = MUTAG.data, MUTAG.target"
   ]
  },
  {
   "cell_type": "code",
   "execution_count": 76,
   "id": "f75cf6c2",
   "metadata": {},
   "outputs": [
    {
     "data": {
      "text/plain": [
       "[0.0001, 0.001, 0.01, 0.1, 1, 10]"
      ]
     },
     "execution_count": 76,
     "metadata": {},
     "output_type": "execute_result"
    }
   ],
   "source": [
    "C_grid=[10**(-4),10**(-3),10**(-2),10**(-1), 10**0, 10**1]\n",
    "C_grid"
   ]
  },
  {
   "cell_type": "code",
   "execution_count": 2,
   "id": "cb668e4f",
   "metadata": {},
   "outputs": [],
   "source": []
  },
  {
   "cell_type": "code",
   "execution_count": 3,
   "id": "7dc172cb",
   "metadata": {},
   "outputs": [],
   "source": [
    "gk = GraphletSampling()"
   ]
  },
  {
   "cell_type": "code",
   "execution_count": 4,
   "id": "19827e05",
   "metadata": {},
   "outputs": [
    {
     "data": {
      "text/plain": [
       "GraphletSampling()"
      ]
     },
     "execution_count": 4,
     "metadata": {},
     "output_type": "execute_result"
    }
   ],
   "source": [
    "gk"
   ]
  },
  {
   "cell_type": "markdown",
   "id": "cdcf4b5b",
   "metadata": {},
   "source": [
    "Task 3b)"
   ]
  },
  {
   "cell_type": "code",
   "execution_count": 92,
   "id": "f65ac3a1",
   "metadata": {},
   "outputs": [
    {
     "data": {
      "text/plain": [
       "0.8567251461988304"
      ]
     },
     "execution_count": 92,
     "metadata": {},
     "output_type": "execute_result"
    }
   ],
   "source": [
    "gk = WeisfeilerLehman(n_iter=4, base_graph_kernel=VertexHistogram, normalize=True)\n",
    "K = gk.fit_transform(G)\n",
    "accs= cross_validate_Kfold_SVM([K], y, n_iter=10, C_grid=C_grid,random_state=1)\n",
    "np.max(accs)"
   ]
  },
  {
   "cell_type": "code",
   "execution_count": 80,
   "id": "44f18831",
   "metadata": {},
   "outputs": [],
   "source": [
    "# Generates a list of kernel matrices\n",
    "#Ks = list()\n",
    "#for i in range(1, 4):\n",
    " #   gk = WeisfeilerLehman(n_iter=i, base_graph_kernel=VertexHistogram, normalize=True)\n",
    "  #  K = gk.fit_transform(G)\n",
    "   # Ks.append(K)\n",
    "\n",
    "# 10-fold cross-validation over different kernels and the parameter C\n",
    "#accs= cross_validate_Kfold_SVM([Ks], y, n_iter=10, C_grid=C_grid)\n"
   ]
  }
 ],
 "metadata": {
  "kernelspec": {
   "display_name": "Python 3",
   "language": "python",
   "name": "python3"
  },
  "language_info": {
   "codemirror_mode": {
    "name": "ipython",
    "version": 3
   },
   "file_extension": ".py",
   "mimetype": "text/x-python",
   "name": "python",
   "nbconvert_exporter": "python",
   "pygments_lexer": "ipython3",
   "version": "3.8.8"
  }
 },
 "nbformat": 4,
 "nbformat_minor": 5
}
