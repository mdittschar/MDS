{
 "cells": [
  {
   "cell_type": "code",
   "execution_count": 2,
   "id": "e0436db0",
   "metadata": {},
   "outputs": [],
   "source": [
    "import numpy as np"
   ]
  },
  {
   "cell_type": "code",
   "execution_count": 3,
   "id": "d9c64c4c",
   "metadata": {},
   "outputs": [],
   "source": [
    "w1 = np.array([[1,0.5,0.3,0.1,0.1],[0.5,1,0.4,0.1,0.1],[0.3,0.4,1,0.3,0.3],[0.1,0.1,0.3,1,0.5],[0.1,0.1,0.3,0.5,1]])\n",
    "w2 = np.array([[1,0.2,0.5,0.1,0.1],[0.2,1,0.3,0.1,0.1],[0.5,0.3,1,0.3,0.3],[0.1,0.1,0.3,1,0.5],[0.1,0.1,0.3,0.5,1]])"
   ]
  },
  {
   "cell_type": "code",
   "execution_count": 4,
   "id": "766b0e17",
   "metadata": {},
   "outputs": [
    {
     "data": {
      "text/plain": [
       "array([[1. , 0.5, 0.3, 0.1, 0.1],\n",
       "       [0.5, 1. , 0.4, 0.1, 0.1],\n",
       "       [0.3, 0.4, 1. , 0.3, 0.3],\n",
       "       [0.1, 0.1, 0.3, 1. , 0.5],\n",
       "       [0.1, 0.1, 0.3, 0.5, 1. ]])"
      ]
     },
     "execution_count": 4,
     "metadata": {},
     "output_type": "execute_result"
    }
   ],
   "source": [
    "w1"
   ]
  },
  {
   "cell_type": "code",
   "execution_count": 13,
   "id": "c9850e1b",
   "metadata": {},
   "outputs": [],
   "source": [
    "def p(w):\n",
    "    x_dim = w.shape[0]\n",
    "    y_dim = w.shape[1]\n",
    "    p1 = np.zeros((x_dim,y_dim))\n",
    "    for i in np.arange(p1.shape[0]):\n",
    "        for j in np.arange(p1.shape[1]):\n",
    "            a = np.ma.array(w[i,:], mask=False)\n",
    "            a.mask[i] = True\n",
    "            if i == j:\n",
    "                p1[i,j] = 0.5\n",
    "            else: \n",
    "                p1[i,j] = w[i,j]/(2*a.sum())\n",
    "                \n",
    "    return p1\n",
    "        \n",
    "    \n",
    "   # def s(w)"
   ]
  },
  {
   "cell_type": "code",
   "execution_count": 14,
   "id": "60605cb4",
   "metadata": {
    "scrolled": true
   },
   "outputs": [],
   "source": [
    "p1 = p(w1)\n"
   ]
  },
  {
   "cell_type": "code",
   "execution_count": 15,
   "id": "00e6d404",
   "metadata": {},
   "outputs": [],
   "source": [
    "p2 = p(w2)"
   ]
  },
  {
   "cell_type": "code",
   "execution_count": 16,
   "id": "eef09303",
   "metadata": {
    "scrolled": true
   },
   "outputs": [
    {
     "data": {
      "text/plain": [
       "array([[0.5       , 0.25      , 0.15      , 0.05      , 0.05      ],\n",
       "       [0.22727273, 0.5       , 0.18181818, 0.04545455, 0.04545455],\n",
       "       [0.11538462, 0.15384615, 0.5       , 0.11538462, 0.11538462],\n",
       "       [0.05      , 0.05      , 0.15      , 0.5       , 0.25      ],\n",
       "       [0.05      , 0.05      , 0.15      , 0.25      , 0.5       ]])"
      ]
     },
     "execution_count": 16,
     "metadata": {},
     "output_type": "execute_result"
    }
   ],
   "source": [
    "p1"
   ]
  },
  {
   "cell_type": "code",
   "execution_count": 17,
   "id": "0e4a1d48",
   "metadata": {},
   "outputs": [
    {
     "data": {
      "text/plain": [
       "array([[0.5       , 0.11111111, 0.27777778, 0.05555556, 0.05555556],\n",
       "       [0.14285714, 0.5       , 0.21428571, 0.07142857, 0.07142857],\n",
       "       [0.17857143, 0.10714286, 0.5       , 0.10714286, 0.10714286],\n",
       "       [0.05      , 0.05      , 0.15      , 0.5       , 0.25      ],\n",
       "       [0.05      , 0.05      , 0.15      , 0.25      , 0.5       ]])"
      ]
     },
     "execution_count": 17,
     "metadata": {},
     "output_type": "execute_result"
    }
   ],
   "source": [
    "p2"
   ]
  }
 ],
 "metadata": {
  "kernelspec": {
   "display_name": "Python 3 (ipykernel)",
   "language": "python",
   "name": "python3"
  },
  "language_info": {
   "codemirror_mode": {
    "name": "ipython",
    "version": 3
   },
   "file_extension": ".py",
   "mimetype": "text/x-python",
   "name": "python",
   "nbconvert_exporter": "python",
   "pygments_lexer": "ipython3",
   "version": "3.8.5"
  }
 },
 "nbformat": 4,
 "nbformat_minor": 5
}
