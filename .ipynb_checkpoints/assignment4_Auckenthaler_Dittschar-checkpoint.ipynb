{
 "cells": [
  {
   "cell_type": "code",
   "execution_count": 1,
   "id": "e0436db0",
   "metadata": {},
   "outputs": [],
   "source": [
    "import numpy as np"
   ]
  },
  {
   "cell_type": "code",
   "execution_count": 2,
   "id": "d9c64c4c",
   "metadata": {},
   "outputs": [],
   "source": [
    "w1 = np.array([[1,0.5,0.3,0.1,0.1],[0.5,1,0.4,0.1,0.1],[0.3,0.4,1,0.3,0.3],[0.1,0.1,0.3,1,0.5],[0.1,0.1,0.3,0.5,1]])\n",
    "w2 = np.array([[1,0.2,0.5,0.1,0.1],[0.2,1,0.3,0.1,0.1],[0.5,0.3,1,0.3,0.3],[0.1,0.1,0.3,1,0.5],[0.1,0.1,0.3,0.5,1]])"
   ]
  },
  {
   "cell_type": "code",
   "execution_count": 3,
   "id": "6405d6ff",
   "metadata": {},
   "outputs": [],
   "source": [
    "eta = 10**(-6)"
   ]
  },
  {
   "cell_type": "code",
   "execution_count": 4,
   "id": "766b0e17",
   "metadata": {
    "scrolled": true
   },
   "outputs": [
    {
     "data": {
      "text/plain": [
       "array([[1. , 0.5, 0.3, 0.1, 0.1],\n",
       "       [0.5, 1. , 0.4, 0.1, 0.1],\n",
       "       [0.3, 0.4, 1. , 0.3, 0.3],\n",
       "       [0.1, 0.1, 0.3, 1. , 0.5],\n",
       "       [0.1, 0.1, 0.3, 0.5, 1. ]])"
      ]
     },
     "execution_count": 4,
     "metadata": {},
     "output_type": "execute_result"
    }
   ],
   "source": [
    "w1"
   ]
  },
  {
   "cell_type": "code",
   "execution_count": 5,
   "id": "078e6a5d",
   "metadata": {},
   "outputs": [
    {
     "data": {
      "text/plain": [
       "array([[1. , 0.2, 0.5, 0.1, 0.1],\n",
       "       [0.2, 1. , 0.3, 0.1, 0.1],\n",
       "       [0.5, 0.3, 1. , 0.3, 0.3],\n",
       "       [0.1, 0.1, 0.3, 1. , 0.5],\n",
       "       [0.1, 0.1, 0.3, 0.5, 1. ]])"
      ]
     },
     "execution_count": 5,
     "metadata": {},
     "output_type": "execute_result"
    }
   ],
   "source": [
    "w2"
   ]
  },
  {
   "cell_type": "code",
   "execution_count": 6,
   "id": "c9850e1b",
   "metadata": {},
   "outputs": [],
   "source": [
    "def p(w):\n",
    "    x_dim = w.shape[0]\n",
    "    y_dim = w.shape[1]\n",
    "    p1 = np.zeros((x_dim,y_dim))\n",
    "    for i in np.arange(p1.shape[0]):\n",
    "        for j in np.arange(p1.shape[1]):\n",
    "            a = np.ma.array(w[i,:], mask=False)\n",
    "            a.mask[i] = True\n",
    "            if i == j:\n",
    "                p1[i,j] = 0.5\n",
    "            else: \n",
    "                p1[i,j] = w[i,j]/(2*a.sum())\n",
    "                \n",
    "    return p1\n",
    "        \n",
    "    \n",
    "def s(w, k):\n",
    "    x_dim = w.shape[0]\n",
    "    y_dim = w.shape[1]\n",
    "    s = np.zeros((x_dim, y_dim))\n",
    "    for i in np.arange(s.shape[0]):\n",
    "        idx = np.argsort(w[i, :])[::-1][:k]\n",
    "        for j in np.arange(s.shape[1]):           \n",
    "            if j in idx:\n",
    "                s[i,j] = w[i,j]/np.sum(w[i, idx])\n",
    "            else:\n",
    "                s[i,j] = 0    \n",
    "    return s\n",
    "\n",
    "def update_p(p, s):\n",
    "    p_plus = s*p*s.T\n",
    "    return p_plus\n",
    "            "
   ]
  },
  {
   "cell_type": "code",
   "execution_count": 7,
   "id": "069a5c35",
   "metadata": {},
   "outputs": [
    {
     "data": {
      "text/plain": [
       "array([[1. , 0.5, 0.3, 0.1, 0.1],\n",
       "       [0.5, 1. , 0.4, 0.1, 0.1],\n",
       "       [0.3, 0.4, 1. , 0.3, 0.3],\n",
       "       [0.1, 0.1, 0.3, 1. , 0.5],\n",
       "       [0.1, 0.1, 0.3, 0.5, 1. ]])"
      ]
     },
     "execution_count": 7,
     "metadata": {},
     "output_type": "execute_result"
    }
   ],
   "source": [
    "w1"
   ]
  },
  {
   "cell_type": "code",
   "execution_count": 8,
   "id": "97196041",
   "metadata": {
    "scrolled": true
   },
   "outputs": [],
   "source": [
    "s1 = s(w1, 2)\n",
    "s2 = s(w2, 2)"
   ]
  },
  {
   "cell_type": "code",
   "execution_count": 9,
   "id": "71a1c787",
   "metadata": {
    "scrolled": true
   },
   "outputs": [
    {
     "data": {
      "text/plain": [
       "array([[0.66666667, 0.33333333, 0.        , 0.        , 0.        ],\n",
       "       [0.33333333, 0.66666667, 0.        , 0.        , 0.        ],\n",
       "       [0.        , 0.28571429, 0.71428571, 0.        , 0.        ],\n",
       "       [0.        , 0.        , 0.        , 0.66666667, 0.33333333],\n",
       "       [0.        , 0.        , 0.        , 0.33333333, 0.66666667]])"
      ]
     },
     "execution_count": 9,
     "metadata": {},
     "output_type": "execute_result"
    }
   ],
   "source": [
    "s1"
   ]
  },
  {
   "cell_type": "code",
   "execution_count": 10,
   "id": "d1ca7fd2",
   "metadata": {},
   "outputs": [
    {
     "data": {
      "text/plain": [
       "array([[0.66666667, 0.        , 0.33333333, 0.        , 0.        ],\n",
       "       [0.        , 0.76923077, 0.23076923, 0.        , 0.        ],\n",
       "       [0.33333333, 0.        , 0.66666667, 0.        , 0.        ],\n",
       "       [0.        , 0.        , 0.        , 0.66666667, 0.33333333],\n",
       "       [0.        , 0.        , 0.        , 0.33333333, 0.66666667]])"
      ]
     },
     "execution_count": 10,
     "metadata": {},
     "output_type": "execute_result"
    }
   ],
   "source": [
    "s2"
   ]
  },
  {
   "cell_type": "code",
   "execution_count": 11,
   "id": "60605cb4",
   "metadata": {
    "scrolled": true
   },
   "outputs": [],
   "source": [
    "p1_0 = p(w1)\n"
   ]
  },
  {
   "cell_type": "code",
   "execution_count": 12,
   "id": "52b7d046",
   "metadata": {},
   "outputs": [],
   "source": [
    "p2_0 = p(w2)"
   ]
  },
  {
   "cell_type": "code",
   "execution_count": 13,
   "id": "c4fb9037",
   "metadata": {
    "scrolled": true
   },
   "outputs": [
    {
     "data": {
      "text/plain": [
       "array([[0.5       , 0.25      , 0.15      , 0.05      , 0.05      ],\n",
       "       [0.22727273, 0.5       , 0.18181818, 0.04545455, 0.04545455],\n",
       "       [0.11538462, 0.15384615, 0.5       , 0.11538462, 0.11538462],\n",
       "       [0.05      , 0.05      , 0.15      , 0.5       , 0.25      ],\n",
       "       [0.05      , 0.05      , 0.15      , 0.25      , 0.5       ]])"
      ]
     },
     "execution_count": 13,
     "metadata": {},
     "output_type": "execute_result"
    }
   ],
   "source": [
    "p1_0"
   ]
  },
  {
   "cell_type": "code",
   "execution_count": 14,
   "id": "3b7d3e9a",
   "metadata": {
    "scrolled": true
   },
   "outputs": [
    {
     "data": {
      "text/plain": [
       "array([[0.5       , 0.11111111, 0.27777778, 0.05555556, 0.05555556],\n",
       "       [0.14285714, 0.5       , 0.21428571, 0.07142857, 0.07142857],\n",
       "       [0.17857143, 0.10714286, 0.5       , 0.10714286, 0.10714286],\n",
       "       [0.05      , 0.05      , 0.15      , 0.5       , 0.25      ],\n",
       "       [0.05      , 0.05      , 0.15      , 0.25      , 0.5       ]])"
      ]
     },
     "execution_count": 14,
     "metadata": {},
     "output_type": "execute_result"
    }
   ],
   "source": [
    "p2_0"
   ]
  },
  {
   "cell_type": "code",
   "execution_count": 15,
   "id": "093bd49a",
   "metadata": {},
   "outputs": [],
   "source": [
    "p1_1 = update_p(p1_0, s2)\n",
    "p2_1 = update_p(p2_0, s1)"
   ]
  },
  {
   "cell_type": "code",
   "execution_count": 16,
   "id": "ed24bbb9",
   "metadata": {},
   "outputs": [
    {
     "data": {
      "text/plain": [
       "array([[0.22222222, 0.        , 0.01666667, 0.        , 0.        ],\n",
       "       [0.        , 0.29585799, 0.        , 0.        , 0.        ],\n",
       "       [0.01282051, 0.        , 0.22222222, 0.        , 0.        ],\n",
       "       [0.        , 0.        , 0.        , 0.22222222, 0.02777778],\n",
       "       [0.        , 0.        , 0.        , 0.02777778, 0.22222222]])"
      ]
     },
     "execution_count": 16,
     "metadata": {},
     "output_type": "execute_result"
    }
   ],
   "source": [
    "p1_1"
   ]
  },
  {
   "cell_type": "code",
   "execution_count": 17,
   "id": "b3319475",
   "metadata": {},
   "outputs": [
    {
     "data": {
      "text/plain": [
       "array([[0.22222222, 0.01234568, 0.        , 0.        , 0.        ],\n",
       "       [0.01587302, 0.22222222, 0.        , 0.        , 0.        ],\n",
       "       [0.        , 0.        , 0.25510204, 0.        , 0.        ],\n",
       "       [0.        , 0.        , 0.        , 0.22222222, 0.02777778],\n",
       "       [0.        , 0.        , 0.        , 0.02777778, 0.22222222]])"
      ]
     },
     "execution_count": 17,
     "metadata": {},
     "output_type": "execute_result"
    }
   ],
   "source": [
    "p2_1"
   ]
  },
  {
   "cell_type": "code",
   "execution_count": 18,
   "id": "a6e16948",
   "metadata": {},
   "outputs": [],
   "source": [
    "pc = (p2_1 + p1_1)/2"
   ]
  },
  {
   "cell_type": "code",
   "execution_count": 19,
   "id": "e3fc58cb",
   "metadata": {
    "scrolled": true
   },
   "outputs": [
    {
     "data": {
      "text/plain": [
       "array([[0.22222222, 0.00617284, 0.00833333, 0.        , 0.        ],\n",
       "       [0.00793651, 0.25904011, 0.        , 0.        , 0.        ],\n",
       "       [0.00641026, 0.        , 0.23866213, 0.        , 0.        ],\n",
       "       [0.        , 0.        , 0.        , 0.22222222, 0.02777778],\n",
       "       [0.        , 0.        , 0.        , 0.02777778, 0.22222222]])"
      ]
     },
     "execution_count": 19,
     "metadata": {},
     "output_type": "execute_result"
    }
   ],
   "source": [
    "pc_1"
   ]
  },
  {
   "cell_type": "code",
   "execution_count": 20,
   "id": "a88060e8",
   "metadata": {},
   "outputs": [],
   "source": [
    "p1_2 = update_p(p1_1, s2)\n",
    "p2_2 = update_p(p2_1, s1)\n",
    "p1_3 = update_p(p1_2, s2)\n",
    "p2_3 = update_p(p2_2, s1)"
   ]
  },
  {
   "cell_type": "code",
   "execution_count": 21,
   "id": "e309b516",
   "metadata": {
    "scrolled": true
   },
   "outputs": [
    {
     "data": {
      "text/plain": [
       "array([[0.09876543, 0.        , 0.00185185, 0.        , 0.        ],\n",
       "       [0.        , 0.1750639 , 0.        , 0.        , 0.        ],\n",
       "       [0.0014245 , 0.        , 0.09876543, 0.        , 0.        ],\n",
       "       [0.        , 0.        , 0.        , 0.09876543, 0.00308642],\n",
       "       [0.        , 0.        , 0.        , 0.00308642, 0.09876543]])"
      ]
     },
     "execution_count": 21,
     "metadata": {},
     "output_type": "execute_result"
    }
   ],
   "source": [
    "p1_2"
   ]
  },
  {
   "cell_type": "code",
   "execution_count": 22,
   "id": "7ed25f0b",
   "metadata": {},
   "outputs": [
    {
     "data": {
      "text/plain": [
       "array([[0.09876543, 0.00137174, 0.        , 0.        , 0.        ],\n",
       "       [0.00176367, 0.09876543, 0.        , 0.        , 0.        ],\n",
       "       [0.        , 0.        , 0.1301541 , 0.        , 0.        ],\n",
       "       [0.        , 0.        , 0.        , 0.09876543, 0.00308642],\n",
       "       [0.        , 0.        , 0.        , 0.00308642, 0.09876543]])"
      ]
     },
     "execution_count": 22,
     "metadata": {},
     "output_type": "execute_result"
    }
   ],
   "source": [
    "p2_2"
   ]
  },
  {
   "cell_type": "code",
   "execution_count": 23,
   "id": "fbe61a9a",
   "metadata": {},
   "outputs": [
    {
     "data": {
      "text/plain": [
       "array([[0.09876543, 0.00068587, 0.00092593, 0.        , 0.        ],\n",
       "       [0.00088183, 0.13691467, 0.        , 0.        , 0.        ],\n",
       "       [0.00071225, 0.        , 0.11445977, 0.        , 0.        ],\n",
       "       [0.        , 0.        , 0.        , 0.09876543, 0.00308642],\n",
       "       [0.        , 0.        , 0.        , 0.00308642, 0.09876543]])"
      ]
     },
     "execution_count": 23,
     "metadata": {},
     "output_type": "execute_result"
    }
   ],
   "source": [
    "pc_2 = (p2_2 + p1_2)/2\n",
    "pc_2"
   ]
  },
  {
   "cell_type": "code",
   "execution_count": 24,
   "id": "3d86a6c8",
   "metadata": {
    "scrolled": true
   },
   "outputs": [
    {
     "data": {
      "text/plain": [
       "array([[4.38957476e-02, 7.62078951e-05, 1.02880658e-04, 0.00000000e+00,\n",
       "        0.00000000e+00],\n",
       "       [9.79815795e-05, 7.37419266e-02, 0.00000000e+00, 0.00000000e+00,\n",
       "        0.00000000e+00],\n",
       "       [7.91389680e-05, 0.00000000e+00, 5.51504510e-02, 0.00000000e+00,\n",
       "        0.00000000e+00],\n",
       "       [0.00000000e+00, 0.00000000e+00, 0.00000000e+00, 4.38957476e-02,\n",
       "        3.42935528e-04],\n",
       "       [0.00000000e+00, 0.00000000e+00, 0.00000000e+00, 3.42935528e-04,\n",
       "        4.38957476e-02]])"
      ]
     },
     "execution_count": 24,
     "metadata": {},
     "output_type": "execute_result"
    }
   ],
   "source": [
    "pc_3 = (p2_3 + p1_3)/2\n",
    "pc_3"
   ]
  },
  {
   "cell_type": "code",
   "execution_count": 25,
   "id": "5c86a42d",
   "metadata": {},
   "outputs": [],
   "source": [
    "p1_4 = update_p(p1_3, s2)\n",
    "p2_4 = update_p(p2_3, s1)"
   ]
  },
  {
   "cell_type": "code",
   "execution_count": 26,
   "id": "5bb50973",
   "metadata": {
    "scrolled": true
   },
   "outputs": [
    {
     "data": {
      "text/plain": [
       "array([[1.95092212e-02, 8.46754390e-06, 1.14311843e-05, 0.00000000e+00,\n",
       "        0.00000000e+00],\n",
       "       [1.08868422e-05, 4.04019791e-02, 0.00000000e+00, 0.00000000e+00,\n",
       "        0.00000000e+00],\n",
       "       [8.79321867e-06, 0.00000000e+00, 2.66947010e-02, 0.00000000e+00,\n",
       "        0.00000000e+00],\n",
       "       [0.00000000e+00, 0.00000000e+00, 0.00000000e+00, 1.95092212e-02,\n",
       "        3.81039476e-05],\n",
       "       [0.00000000e+00, 0.00000000e+00, 0.00000000e+00, 3.81039476e-05,\n",
       "        1.95092212e-02]])"
      ]
     },
     "execution_count": 26,
     "metadata": {},
     "output_type": "execute_result"
    }
   ],
   "source": [
    "pc_4 = (p1_4 + p2_4)/2\n",
    "pc_4"
   ]
  },
  {
   "cell_type": "code",
   "execution_count": 70,
   "id": "bd872eee",
   "metadata": {},
   "outputs": [],
   "source": [
    "def check(pc1, pc2):\n",
    "    checksum = np.abs(np.sum(pc2) - np.sum(pc1))\n",
    "    if checksum < eta:\n",
    "        return True, checksum\n",
    "    else:\n",
    "        return False, checksum"
   ]
  },
  {
   "cell_type": "code",
   "execution_count": 71,
   "id": "f592370d",
   "metadata": {},
   "outputs": [],
   "source": [
    "def get_ps(p1, p2, s1, s2):\n",
    "    p1_5 = update_p(p1, s2)\n",
    "    p2_5 = update_p(p2, s1)\n",
    "    pc_5 = (p1_5 + p2_5)/2\n",
    "    return p1_5, p2_5, pc_5\n",
    "\n",
    "p1_5, p2_5, pc_5 = get_ps(p1_4, p2_4, s1, s2)\n",
    "p1_6, p2_6, pc_6 = get_ps(p1_5, p2_5, s1, s2)\n",
    "p1_7, p2_7, pc_7 = get_ps(p1_6, p2_6, s1, s2)\n",
    "p1_8, p2_8, pc_8 = get_ps(p1_7, p2_7, s1, s2)\n",
    "p1_9, p2_9, pc_9 = get_ps(p1_8, p2_8, s1, s2)\n",
    "p1_10, p2_10, pc_10 = get_ps(p1_9, p2_9, s1, s2)\n",
    "p1_11, p2_11, pc_11 = get_ps(p1_10, p2_10,s1, s2)\n",
    "p1_12, p2_12, pc_12 = get_ps(p1_11, p2_11,s1, s2)\n",
    "p1_13, p2_13, pc_13 = get_ps(p1_12, p2_12,s1, s2)\n",
    "p1_14, p2_14, pc_14 = get_ps(p1_13, p2_13,s1, s2)\n",
    "p1_15, p2_15, pc_15 = get_ps(p1_14, p2_14,s1, s2)\n",
    "p1_16, p2_16, pc_16 = get_ps(p1_15, p2_15,s1, s2)\n",
    "p1_17, p2_17, pc_17 = get_ps(p1_16, p2_16,s1, s2)\n",
    "p1_18, p2_18, pc_18 = get_ps(p1_17, p2_17,s1, s2)\n",
    "p1_19, p2_19, pc_19 = get_ps(p1_17, p2_17,s1, s2)\n",
    "\n"
   ]
  },
  {
   "cell_type": "code",
   "execution_count": 72,
   "id": "2783ae86",
   "metadata": {
    "scrolled": true
   },
   "outputs": [
    {
     "name": "stdout",
     "output_type": "stream",
     "text": [
      "The difference between Pc1 and Pc2 is smaller than eta: (False, 0.6917279459207997)\n",
      "The difference between Pc2 and Pc3 is smaller than eta: (False, 0.2954277497300795)\n",
      "The difference between Pc3 and Pc4 is smaller than eta: (False, 0.1358815702829733)\n",
      "The difference between Pc4 and Pc5 is smaller than eta: (False, 0.06426676433907028)\n",
      "The difference between Pc5 and Pc6 is smaller than eta: (False, 0.03091710300095088)\n",
      "The difference between Pc6 and Pc7 is smaller than eta: (False, 0.015105904921230573)\n",
      "The difference between Pc7 and Pc8 is smaller than eta: (False, 0.007500551166073689)\n",
      "The difference between Pc8 and Pc9 is smaller than eta: (False, 0.0037877761590438108)\n",
      "The difference between Pc9 and Pc10 is smaller than eta: (False, 0.0019463281453006801)\n",
      "The difference between Pc10 and Pc11 is smaller than eta: (False, 0.0010175692409482766)\n",
      "The difference between Pc11 and Pc12 is smaller than eta: (False, 0.0005409728256017225)\n",
      "The difference between Pc12 and Pc13 is smaller than eta: (False, 0.0002921448712507251)\n",
      "The difference between Pc13 and Pc14 is smaller than eta: (False, 0.00016004104500174805)\n",
      "The difference between Pc14 and Pc15 is smaller than eta: (False, 8.879431020267639e-05)\n",
      "The difference between Pc15 and Pc16 is smaller than eta: (False, 4.981258976451476e-05)\n",
      "The difference between Pc16 and Pc17 is smaller than eta: (False, 2.8209117317611437e-05)\n",
      "The difference between Pc17 and Pc18 is smaller than eta: (False, 1.6102092709108412e-05)\n",
      "The difference between Pc18 and Pc19 is smaller than eta: (True, 0.0)\n"
     ]
    }
   ],
   "source": [
    "print(f\"The difference between Pc1 and Pc2 is smaller than eta: {check(pc, pc_2)}\")\n",
    "print(f\"The difference between Pc2 and Pc3 is smaller than eta: {check(pc_2, pc_3)}\")\n",
    "print(f\"The difference between Pc3 and Pc4 is smaller than eta: {check(pc_3, pc_4)}\")\n",
    "print(f\"The difference between Pc4 and Pc5 is smaller than eta: {check(pc_4, pc_5)}\")\n",
    "print(f\"The difference between Pc5 and Pc6 is smaller than eta: {check(pc_5, pc_6)}\")\n",
    "print(f\"The difference between Pc6 and Pc7 is smaller than eta: {check(pc_6, pc_7)}\")\n",
    "print(f\"The difference between Pc7 and Pc8 is smaller than eta: {check(pc_7, pc_8)}\")\n",
    "print(f\"The difference between Pc8 and Pc9 is smaller than eta: {check(pc_8, pc_9)}\")\n",
    "print(f\"The difference between Pc9 and Pc10 is smaller than eta: {check(pc_9, pc_10)}\")\n",
    "print(f\"The difference between Pc10 and Pc11 is smaller than eta: {check(pc_10, pc_11)}\")\n",
    "print(f\"The difference between Pc11 and Pc12 is smaller than eta: {check(pc_11, pc_12)}\")\n",
    "print(f\"The difference between Pc12 and Pc13 is smaller than eta: {check(pc_12, pc_13)}\")\n",
    "print(f\"The difference between Pc13 and Pc14 is smaller than eta: {check(pc_13, pc_14)}\")\n",
    "print(f\"The difference between Pc14 and Pc15 is smaller than eta: {check(pc_14, pc_15)}\")\n",
    "print(f\"The difference between Pc15 and Pc16 is smaller than eta: {check(pc_15, pc_16)}\")\n",
    "print(f\"The difference between Pc16 and Pc17 is smaller than eta: {check(pc_16, pc_17)}\")\n",
    "print(f\"The difference between Pc17 and Pc18 is smaller than eta: {check(pc_17, pc_18)}\")\n",
    "print(f\"The difference between Pc18 and Pc19 is smaller than eta: {check(pc_18, pc_19)}\")"
   ]
  },
  {
   "cell_type": "code",
   "execution_count": 41,
   "id": "a91a0b2c",
   "metadata": {},
   "outputs": [
    {
     "data": {
      "text/plain": [
       "0.1358815702829733"
      ]
     },
     "execution_count": 41,
     "metadata": {},
     "output_type": "execute_result"
    }
   ],
   "source": []
  }
 ],
 "metadata": {
  "kernelspec": {
   "display_name": "Python 3 (ipykernel)",
   "language": "python",
   "name": "python3"
  },
  "language_info": {
   "codemirror_mode": {
    "name": "ipython",
    "version": 3
   },
   "file_extension": ".py",
   "mimetype": "text/x-python",
   "name": "python",
   "nbconvert_exporter": "python",
   "pygments_lexer": "ipython3",
   "version": "3.8.5"
  }
 },
 "nbformat": 4,
 "nbformat_minor": 5
}
