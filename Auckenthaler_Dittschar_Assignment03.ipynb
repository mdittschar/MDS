{
 "cells": [
  {
   "cell_type": "code",
   "execution_count": 1,
   "id": "40af7ee4",
   "metadata": {
    "scrolled": false
   },
   "outputs": [],
   "source": [
    "from grakel.kernels import ShortestPath\n",
    "from grakel import GraphKernel, GraphletSampling\n",
    "import numpy as np\n",
    "from sklearn.svm import SVC\n",
    "from grakel.utils import cross_validate_Kfold_SVM\n",
    "from grakel.kernels import WeisfeilerLehman, VertexHistogram\n",
    "from grakel.datasets import fetch_dataset\n",
    "import math"
   ]
  },
  {
   "cell_type": "code",
   "execution_count": 2,
   "id": "96a89b22",
   "metadata": {},
   "outputs": [],
   "source": [
    "# Loads MUTAG dataset\n",
    "MUTAG = fetch_dataset(\"MUTAG\", verbose=False)\n",
    "G, y = MUTAG.data, MUTAG.target"
   ]
  },
  {
   "cell_type": "code",
   "execution_count": 3,
   "id": "ae1293bd",
   "metadata": {},
   "outputs": [],
   "source": [
    "C_grid=[10**(-4),10**(-3),10**(-2),10**(-1), 10**0, 10**1]\n"
   ]
  },
  {
   "cell_type": "code",
   "execution_count": 4,
   "id": "7dc172cb",
   "metadata": {},
   "outputs": [
    {
     "name": "stdout",
     "output_type": "stream",
     "text": [
      "Accuracy: 80.82%\n"
     ]
    }
   ],
   "source": [
    "gk= GraphletSampling(n_jobs=None, k=3,normalize=True, verbose=False, random_state=1, sampling={'n_samples': 1000})\n",
    "K = gk.fit_transform(G)\n",
    "accs= cross_validate_Kfold_SVM([K], y, n_iter=10, C_grid=C_grid,random_state=1)\n",
    "print(\"Accuracy:\", str(round(np.max(accs)*100, 2)) + \"%\")"
   ]
  },
  {
   "cell_type": "code",
   "execution_count": 5,
   "id": "42db6183",
   "metadata": {},
   "outputs": [
    {
     "data": {
      "text/plain": [
       "20000"
      ]
     },
     "execution_count": 5,
     "metadata": {},
     "output_type": "execute_result"
    }
   ],
   "source": [
    "delta= 0.05\n",
    "epsilon= 0.01\n",
    "a=-1\n",
    "n_samples = math.ceil(2*(a*np.log10(2) + np.log10(1/delta))/(epsilon**2))\n",
    "n_samples"
   ]
  },
  {
   "cell_type": "markdown",
   "id": "3498c404",
   "metadata": {},
   "source": [
    "Task 3b)"
   ]
  },
  {
   "cell_type": "code",
   "execution_count": 6,
   "id": "b21842aa",
   "metadata": {},
   "outputs": [
    {
     "name": "stdout",
     "output_type": "stream",
     "text": [
      "Accuracy: 85.67%\n"
     ]
    }
   ],
   "source": [
    "gk = WeisfeilerLehman(n_iter=4, base_graph_kernel=VertexHistogram, normalize=True)\n",
    "K = gk.fit_transform(G)\n",
    "accs= cross_validate_Kfold_SVM([K], y, n_iter=10, C_grid=C_grid,random_state=1)\n",
    "print(\"Accuracy:\", str(round(np.max(accs)*100, 2)) + \"%\")"
   ]
  }
 ],
 "metadata": {
  "kernelspec": {
   "display_name": "Python 3",
   "language": "python",
   "name": "python3"
  },
  "language_info": {
   "codemirror_mode": {
    "name": "ipython",
    "version": 3
   },
   "file_extension": ".py",
   "mimetype": "text/x-python",
   "name": "python",
   "nbconvert_exporter": "python",
   "pygments_lexer": "ipython3",
   "version": "3.8.8"
  }
 },
 "nbformat": 4,
 "nbformat_minor": 5
}
