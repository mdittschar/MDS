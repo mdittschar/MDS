{
 "cells": [
  {
   "cell_type": "code",
   "execution_count": 1,
   "id": "e4e2cdb3",
   "metadata": {},
   "outputs": [
    {
     "name": "stderr",
     "output_type": "stream",
     "text": [
      "C:\\Users\\clari\\anaconda3\\lib\\site-packages\\statsmodels\\tsa\\base\\tsa_model.py:7: FutureWarning: pandas.Int64Index is deprecated and will be removed from pandas in a future version. Use pandas.Index with the appropriate dtype instead.\n",
      "  from pandas import (to_datetime, Int64Index, DatetimeIndex, Period,\n",
      "C:\\Users\\clari\\anaconda3\\lib\\site-packages\\statsmodels\\tsa\\base\\tsa_model.py:7: FutureWarning: pandas.Float64Index is deprecated and will be removed from pandas in a future version. Use pandas.Index with the appropriate dtype instead.\n",
      "  from pandas import (to_datetime, Int64Index, DatetimeIndex, Period,\n"
     ]
    }
   ],
   "source": [
    "import pandas as pd\n",
    "import statsmodels.api as sm\n",
    "import matplotlib.pyplot as plt"
   ]
  },
  {
   "cell_type": "code",
   "execution_count": 2,
   "id": "564af065",
   "metadata": {},
   "outputs": [],
   "source": [
    "Task_A= pd.read_table('task_a.txt', sep='\\s+') \n",
    "Task_B = pd.read_table('task_b.txt', sep='\\s+')\n"
   ]
  },
  {
   "cell_type": "code",
   "execution_count": 3,
   "id": "201b19b6",
   "metadata": {
    "scrolled": false
   },
   "outputs": [
    {
     "data": {
      "text/html": [
       "<div>\n",
       "<style scoped>\n",
       "    .dataframe tbody tr th:only-of-type {\n",
       "        vertical-align: middle;\n",
       "    }\n",
       "\n",
       "    .dataframe tbody tr th {\n",
       "        vertical-align: top;\n",
       "    }\n",
       "\n",
       "    .dataframe thead th {\n",
       "        text-align: right;\n",
       "    }\n",
       "</style>\n",
       "<table border=\"1\" class=\"dataframe\">\n",
       "  <thead>\n",
       "    <tr style=\"text-align: right;\">\n",
       "      <th></th>\n",
       "      <th>CHR</th>\n",
       "      <th>SNP</th>\n",
       "      <th>UNADJ</th>\n",
       "      <th>GC</th>\n",
       "      <th>QQ</th>\n",
       "      <th>BONF</th>\n",
       "      <th>HOLM</th>\n",
       "      <th>SIDAK_SS</th>\n",
       "      <th>SIDAK_SD</th>\n",
       "      <th>FDR_BH</th>\n",
       "      <th>FDR_BY</th>\n",
       "    </tr>\n",
       "  </thead>\n",
       "  <tbody>\n",
       "    <tr>\n",
       "      <th>0</th>\n",
       "      <td>6</td>\n",
       "      <td>rs11962226</td>\n",
       "      <td>2.168000e-15</td>\n",
       "      <td>0.000073</td>\n",
       "      <td>3.471000e-07</td>\n",
       "      <td>3.123000e-09</td>\n",
       "      <td>3.123000e-09</td>\n",
       "      <td>3.123000e-09</td>\n",
       "      <td>3.123000e-09</td>\n",
       "      <td>1.610000e-09</td>\n",
       "      <td>2.376000e-08</td>\n",
       "    </tr>\n",
       "    <tr>\n",
       "      <th>1</th>\n",
       "      <td>9</td>\n",
       "      <td>rs7031414</td>\n",
       "      <td>3.315000e-15</td>\n",
       "      <td>0.000082</td>\n",
       "      <td>1.041000e-06</td>\n",
       "      <td>4.775000e-09</td>\n",
       "      <td>4.775000e-09</td>\n",
       "      <td>4.775000e-09</td>\n",
       "      <td>4.775000e-09</td>\n",
       "      <td>1.610000e-09</td>\n",
       "      <td>2.376000e-08</td>\n",
       "    </tr>\n",
       "    <tr>\n",
       "      <th>2</th>\n",
       "      <td>3</td>\n",
       "      <td>rs9311319</td>\n",
       "      <td>4.536000e-15</td>\n",
       "      <td>0.000089</td>\n",
       "      <td>1.736000e-06</td>\n",
       "      <td>6.534000e-09</td>\n",
       "      <td>6.534000e-09</td>\n",
       "      <td>6.534000e-09</td>\n",
       "      <td>6.534000e-09</td>\n",
       "      <td>1.610000e-09</td>\n",
       "      <td>2.376000e-08</td>\n",
       "    </tr>\n",
       "    <tr>\n",
       "      <th>3</th>\n",
       "      <td>4</td>\n",
       "      <td>rs10007859</td>\n",
       "      <td>4.953000e-15</td>\n",
       "      <td>0.000091</td>\n",
       "      <td>2.430000e-06</td>\n",
       "      <td>7.135000e-09</td>\n",
       "      <td>7.135000e-09</td>\n",
       "      <td>7.135000e-09</td>\n",
       "      <td>7.135000e-09</td>\n",
       "      <td>1.610000e-09</td>\n",
       "      <td>2.376000e-08</td>\n",
       "    </tr>\n",
       "    <tr>\n",
       "      <th>4</th>\n",
       "      <td>1</td>\n",
       "      <td>rs17130151</td>\n",
       "      <td>5.589000e-15</td>\n",
       "      <td>0.000094</td>\n",
       "      <td>3.124000e-06</td>\n",
       "      <td>8.050000e-09</td>\n",
       "      <td>8.050000e-09</td>\n",
       "      <td>8.050000e-09</td>\n",
       "      <td>8.050000e-09</td>\n",
       "      <td>1.610000e-09</td>\n",
       "      <td>2.376000e-08</td>\n",
       "    </tr>\n",
       "    <tr>\n",
       "      <th>...</th>\n",
       "      <td>...</td>\n",
       "      <td>...</td>\n",
       "      <td>...</td>\n",
       "      <td>...</td>\n",
       "      <td>...</td>\n",
       "      <td>...</td>\n",
       "      <td>...</td>\n",
       "      <td>...</td>\n",
       "      <td>...</td>\n",
       "      <td>...</td>\n",
       "      <td>...</td>\n",
       "    </tr>\n",
       "    <tr>\n",
       "      <th>1440499</th>\n",
       "      <td>23</td>\n",
       "      <td>rs5983749</td>\n",
       "      <td>1.000000e+00</td>\n",
       "      <td>1.000000</td>\n",
       "      <td>1.000000e+00</td>\n",
       "      <td>1.000000e+00</td>\n",
       "      <td>1.000000e+00</td>\n",
       "      <td>1.000000e+00</td>\n",
       "      <td>1.000000e+00</td>\n",
       "      <td>1.000000e+00</td>\n",
       "      <td>1.000000e+00</td>\n",
       "    </tr>\n",
       "    <tr>\n",
       "      <th>1440500</th>\n",
       "      <td>25</td>\n",
       "      <td>rs35755665</td>\n",
       "      <td>1.000000e+00</td>\n",
       "      <td>1.000000</td>\n",
       "      <td>1.000000e+00</td>\n",
       "      <td>1.000000e+00</td>\n",
       "      <td>1.000000e+00</td>\n",
       "      <td>1.000000e+00</td>\n",
       "      <td>1.000000e+00</td>\n",
       "      <td>1.000000e+00</td>\n",
       "      <td>1.000000e+00</td>\n",
       "    </tr>\n",
       "    <tr>\n",
       "      <th>1440501</th>\n",
       "      <td>25</td>\n",
       "      <td>rs28602757</td>\n",
       "      <td>1.000000e+00</td>\n",
       "      <td>1.000000</td>\n",
       "      <td>1.000000e+00</td>\n",
       "      <td>1.000000e+00</td>\n",
       "      <td>1.000000e+00</td>\n",
       "      <td>1.000000e+00</td>\n",
       "      <td>1.000000e+00</td>\n",
       "      <td>1.000000e+00</td>\n",
       "      <td>1.000000e+00</td>\n",
       "    </tr>\n",
       "    <tr>\n",
       "      <th>1440502</th>\n",
       "      <td>25</td>\n",
       "      <td>rs35964637</td>\n",
       "      <td>1.000000e+00</td>\n",
       "      <td>1.000000</td>\n",
       "      <td>1.000000e+00</td>\n",
       "      <td>1.000000e+00</td>\n",
       "      <td>1.000000e+00</td>\n",
       "      <td>1.000000e+00</td>\n",
       "      <td>1.000000e+00</td>\n",
       "      <td>1.000000e+00</td>\n",
       "      <td>1.000000e+00</td>\n",
       "    </tr>\n",
       "    <tr>\n",
       "      <th>1440503</th>\n",
       "      <td>25</td>\n",
       "      <td>rs28814596</td>\n",
       "      <td>1.000000e+00</td>\n",
       "      <td>1.000000</td>\n",
       "      <td>1.000000e+00</td>\n",
       "      <td>1.000000e+00</td>\n",
       "      <td>1.000000e+00</td>\n",
       "      <td>1.000000e+00</td>\n",
       "      <td>1.000000e+00</td>\n",
       "      <td>1.000000e+00</td>\n",
       "      <td>1.000000e+00</td>\n",
       "    </tr>\n",
       "  </tbody>\n",
       "</table>\n",
       "<p>1440504 rows × 11 columns</p>\n",
       "</div>"
      ],
      "text/plain": [
       "         CHR         SNP         UNADJ        GC            QQ          BONF  \\\n",
       "0          6  rs11962226  2.168000e-15  0.000073  3.471000e-07  3.123000e-09   \n",
       "1          9   rs7031414  3.315000e-15  0.000082  1.041000e-06  4.775000e-09   \n",
       "2          3   rs9311319  4.536000e-15  0.000089  1.736000e-06  6.534000e-09   \n",
       "3          4  rs10007859  4.953000e-15  0.000091  2.430000e-06  7.135000e-09   \n",
       "4          1  rs17130151  5.589000e-15  0.000094  3.124000e-06  8.050000e-09   \n",
       "...      ...         ...           ...       ...           ...           ...   \n",
       "1440499   23   rs5983749  1.000000e+00  1.000000  1.000000e+00  1.000000e+00   \n",
       "1440500   25  rs35755665  1.000000e+00  1.000000  1.000000e+00  1.000000e+00   \n",
       "1440501   25  rs28602757  1.000000e+00  1.000000  1.000000e+00  1.000000e+00   \n",
       "1440502   25  rs35964637  1.000000e+00  1.000000  1.000000e+00  1.000000e+00   \n",
       "1440503   25  rs28814596  1.000000e+00  1.000000  1.000000e+00  1.000000e+00   \n",
       "\n",
       "                 HOLM      SIDAK_SS      SIDAK_SD        FDR_BH        FDR_BY  \n",
       "0        3.123000e-09  3.123000e-09  3.123000e-09  1.610000e-09  2.376000e-08  \n",
       "1        4.775000e-09  4.775000e-09  4.775000e-09  1.610000e-09  2.376000e-08  \n",
       "2        6.534000e-09  6.534000e-09  6.534000e-09  1.610000e-09  2.376000e-08  \n",
       "3        7.135000e-09  7.135000e-09  7.135000e-09  1.610000e-09  2.376000e-08  \n",
       "4        8.050000e-09  8.050000e-09  8.050000e-09  1.610000e-09  2.376000e-08  \n",
       "...               ...           ...           ...           ...           ...  \n",
       "1440499  1.000000e+00  1.000000e+00  1.000000e+00  1.000000e+00  1.000000e+00  \n",
       "1440500  1.000000e+00  1.000000e+00  1.000000e+00  1.000000e+00  1.000000e+00  \n",
       "1440501  1.000000e+00  1.000000e+00  1.000000e+00  1.000000e+00  1.000000e+00  \n",
       "1440502  1.000000e+00  1.000000e+00  1.000000e+00  1.000000e+00  1.000000e+00  \n",
       "1440503  1.000000e+00  1.000000e+00  1.000000e+00  1.000000e+00  1.000000e+00  \n",
       "\n",
       "[1440504 rows x 11 columns]"
      ]
     },
     "execution_count": 3,
     "metadata": {},
     "output_type": "execute_result"
    }
   ],
   "source": [
    "Task_A"
   ]
  },
  {
   "cell_type": "code",
   "execution_count": 17,
   "id": "6aea1c2b",
   "metadata": {},
   "outputs": [],
   "source": [
    "import scipy\n",
    "from scipy import stats"
   ]
  },
  {
   "cell_type": "code",
   "execution_count": 19,
   "id": "c990a5b8",
   "metadata": {},
   "outputs": [
    {
     "data": {
      "text/html": [
       "<div>\n",
       "<style scoped>\n",
       "    .dataframe tbody tr th:only-of-type {\n",
       "        vertical-align: middle;\n",
       "    }\n",
       "\n",
       "    .dataframe tbody tr th {\n",
       "        vertical-align: top;\n",
       "    }\n",
       "\n",
       "    .dataframe thead th {\n",
       "        text-align: right;\n",
       "    }\n",
       "</style>\n",
       "<table border=\"1\" class=\"dataframe\">\n",
       "  <thead>\n",
       "    <tr style=\"text-align: right;\">\n",
       "      <th></th>\n",
       "      <th>CHR</th>\n",
       "      <th>SNP</th>\n",
       "      <th>A1</th>\n",
       "      <th>A2</th>\n",
       "      <th>TEST</th>\n",
       "      <th>AFF</th>\n",
       "      <th>UNAFF</th>\n",
       "      <th>CHISQ</th>\n",
       "      <th>DF</th>\n",
       "      <th>P</th>\n",
       "    </tr>\n",
       "  </thead>\n",
       "  <tbody>\n",
       "    <tr>\n",
       "      <th>0</th>\n",
       "      <td>1</td>\n",
       "      <td>rs10458597</td>\n",
       "      <td>T</td>\n",
       "      <td>C</td>\n",
       "      <td>TREND</td>\n",
       "      <td>4/230</td>\n",
       "      <td>13/973</td>\n",
       "      <td>0.1565</td>\n",
       "      <td>1.0</td>\n",
       "      <td>6.924000e-01</td>\n",
       "    </tr>\n",
       "    <tr>\n",
       "      <th>1</th>\n",
       "      <td>1</td>\n",
       "      <td>rs2185539</td>\n",
       "      <td>T</td>\n",
       "      <td>C</td>\n",
       "      <td>TREND</td>\n",
       "      <td>7/231</td>\n",
       "      <td>0/1000</td>\n",
       "      <td>29.7500</td>\n",
       "      <td>1.0</td>\n",
       "      <td>4.920000e-08</td>\n",
       "    </tr>\n",
       "    <tr>\n",
       "      <th>2</th>\n",
       "      <td>1</td>\n",
       "      <td>rs11240767</td>\n",
       "      <td>T</td>\n",
       "      <td>C</td>\n",
       "      <td>TREND</td>\n",
       "      <td>10/228</td>\n",
       "      <td>15/985</td>\n",
       "      <td>6.2060</td>\n",
       "      <td>1.0</td>\n",
       "      <td>1.273000e-02</td>\n",
       "    </tr>\n",
       "    <tr>\n",
       "      <th>3</th>\n",
       "      <td>1</td>\n",
       "      <td>rs12564807</td>\n",
       "      <td>G</td>\n",
       "      <td>A</td>\n",
       "      <td>TREND</td>\n",
       "      <td>0/238</td>\n",
       "      <td>0/1000</td>\n",
       "      <td>NaN</td>\n",
       "      <td>NaN</td>\n",
       "      <td>NaN</td>\n",
       "    </tr>\n",
       "    <tr>\n",
       "      <th>4</th>\n",
       "      <td>1</td>\n",
       "      <td>rs3131972</td>\n",
       "      <td>A</td>\n",
       "      <td>G</td>\n",
       "      <td>TREND</td>\n",
       "      <td>82/156</td>\n",
       "      <td>259/741</td>\n",
       "      <td>6.6180</td>\n",
       "      <td>1.0</td>\n",
       "      <td>1.010000e-02</td>\n",
       "    </tr>\n",
       "    <tr>\n",
       "      <th>...</th>\n",
       "      <td>...</td>\n",
       "      <td>...</td>\n",
       "      <td>...</td>\n",
       "      <td>...</td>\n",
       "      <td>...</td>\n",
       "      <td>...</td>\n",
       "      <td>...</td>\n",
       "      <td>...</td>\n",
       "      <td>...</td>\n",
       "      <td>...</td>\n",
       "    </tr>\n",
       "    <tr>\n",
       "      <th>1440499</th>\n",
       "      <td>25</td>\n",
       "      <td>rs4518813</td>\n",
       "      <td>G</td>\n",
       "      <td>A</td>\n",
       "      <td>TREND</td>\n",
       "      <td>91/145</td>\n",
       "      <td>414/570</td>\n",
       "      <td>0.8879</td>\n",
       "      <td>1.0</td>\n",
       "      <td>3.460000e-01</td>\n",
       "    </tr>\n",
       "    <tr>\n",
       "      <th>1440500</th>\n",
       "      <td>25</td>\n",
       "      <td>rs5940653</td>\n",
       "      <td>T</td>\n",
       "      <td>G</td>\n",
       "      <td>TREND</td>\n",
       "      <td>71/167</td>\n",
       "      <td>350/642</td>\n",
       "      <td>2.5160</td>\n",
       "      <td>1.0</td>\n",
       "      <td>1.127000e-01</td>\n",
       "    </tr>\n",
       "    <tr>\n",
       "      <th>1440501</th>\n",
       "      <td>25</td>\n",
       "      <td>rs5983854</td>\n",
       "      <td>G</td>\n",
       "      <td>T</td>\n",
       "      <td>TREND</td>\n",
       "      <td>72/166</td>\n",
       "      <td>382/614</td>\n",
       "      <td>5.2930</td>\n",
       "      <td>1.0</td>\n",
       "      <td>2.141000e-02</td>\n",
       "    </tr>\n",
       "    <tr>\n",
       "      <th>1440502</th>\n",
       "      <td>25</td>\n",
       "      <td>rs3093449</td>\n",
       "      <td>A</td>\n",
       "      <td>G</td>\n",
       "      <td>TREND</td>\n",
       "      <td>30/208</td>\n",
       "      <td>30/970</td>\n",
       "      <td>31.2900</td>\n",
       "      <td>1.0</td>\n",
       "      <td>2.228000e-08</td>\n",
       "    </tr>\n",
       "    <tr>\n",
       "      <th>1440503</th>\n",
       "      <td>25</td>\n",
       "      <td>rs1973881</td>\n",
       "      <td>G</td>\n",
       "      <td>A</td>\n",
       "      <td>TREND</td>\n",
       "      <td>30/208</td>\n",
       "      <td>147/847</td>\n",
       "      <td>0.6873</td>\n",
       "      <td>1.0</td>\n",
       "      <td>4.071000e-01</td>\n",
       "    </tr>\n",
       "  </tbody>\n",
       "</table>\n",
       "<p>1440504 rows × 10 columns</p>\n",
       "</div>"
      ],
      "text/plain": [
       "         CHR         SNP A1 A2   TEST     AFF    UNAFF    CHISQ   DF  \\\n",
       "0          1  rs10458597  T  C  TREND   4/230   13/973   0.1565  1.0   \n",
       "1          1   rs2185539  T  C  TREND   7/231   0/1000  29.7500  1.0   \n",
       "2          1  rs11240767  T  C  TREND  10/228   15/985   6.2060  1.0   \n",
       "3          1  rs12564807  G  A  TREND   0/238   0/1000      NaN  NaN   \n",
       "4          1   rs3131972  A  G  TREND  82/156  259/741   6.6180  1.0   \n",
       "...      ...         ... .. ..    ...     ...      ...      ...  ...   \n",
       "1440499   25   rs4518813  G  A  TREND  91/145  414/570   0.8879  1.0   \n",
       "1440500   25   rs5940653  T  G  TREND  71/167  350/642   2.5160  1.0   \n",
       "1440501   25   rs5983854  G  T  TREND  72/166  382/614   5.2930  1.0   \n",
       "1440502   25   rs3093449  A  G  TREND  30/208   30/970  31.2900  1.0   \n",
       "1440503   25   rs1973881  G  A  TREND  30/208  147/847   0.6873  1.0   \n",
       "\n",
       "                    P  \n",
       "0        6.924000e-01  \n",
       "1        4.920000e-08  \n",
       "2        1.273000e-02  \n",
       "3                 NaN  \n",
       "4        1.010000e-02  \n",
       "...               ...  \n",
       "1440499  3.460000e-01  \n",
       "1440500  1.127000e-01  \n",
       "1440501  2.141000e-02  \n",
       "1440502  2.228000e-08  \n",
       "1440503  4.071000e-01  \n",
       "\n",
       "[1440504 rows x 10 columns]"
      ]
     },
     "execution_count": 19,
     "metadata": {},
     "output_type": "execute_result"
    }
   ],
   "source": [
    "model= pd.read_table('plink_model.txt', sep=\"\\s+\")\n",
    "model"
   ]
  },
  {
   "cell_type": "code",
   "execution_count": 144,
   "id": "f7fa23f5",
   "metadata": {},
   "outputs": [
    {
     "data": {
      "text/plain": [
       "2.198"
      ]
     },
     "execution_count": 144,
     "metadata": {},
     "output_type": "execute_result"
    }
   ],
   "source": [
    "lamb = np.median(~model['CHISQ'].isna())/scipy.stats.chi2.ppf(0.5,1)\n",
    "lamb_bonf= round(lamb, 3)\n",
    "lamb_bonf"
   ]
  },
  {
   "cell_type": "code",
   "execution_count": 167,
   "id": "7f483787",
   "metadata": {},
   "outputs": [
    {
     "data": {
      "text/plain": [
       "1.099"
      ]
     },
     "execution_count": 167,
     "metadata": {},
     "output_type": "execute_result"
    }
   ],
   "source": [
    "lamb = np.median(~model['CHISQ'].isna())/scipy.stats.chi2.ppf(0.66319,0.99)\n",
    "lamb_cal= round(lamb, 3)\n",
    "lamb_cal"
   ]
  },
  {
   "cell_type": "code",
   "execution_count": 169,
   "id": "2bab4b21",
   "metadata": {},
   "outputs": [
    {
     "data": {
      "text/plain": [
       "4.044"
      ]
     },
     "execution_count": 169,
     "metadata": {},
     "output_type": "execute_result"
    }
   ],
   "source": [
    "lamb = np.median(~model['CHISQ'].isna())/scipy.stats.chi2.ppf(0.381,1)\n",
    "lamb_uncal= round(lamb, 3)\n",
    "lamb_uncal"
   ]
  },
  {
   "cell_type": "code",
   "execution_count": 171,
   "id": "096e384d",
   "metadata": {},
   "outputs": [],
   "source": [
    "import sys\n"
   ]
  },
  {
   "cell_type": "code",
   "execution_count": 175,
   "id": "1d07db2c",
   "metadata": {},
   "outputs": [
    {
     "name": "stdout",
     "output_type": "stream",
     "text": [
      "λ\n"
     ]
    }
   ],
   "source": [
    "print('\\u03BB')"
   ]
  },
  {
   "cell_type": "code",
   "execution_count": 173,
   "id": "4c4d7ee0",
   "metadata": {},
   "outputs": [
    {
     "data": {
      "text/plain": [
       "'utf-8'"
      ]
     },
     "execution_count": 173,
     "metadata": {},
     "output_type": "execute_result"
    }
   ],
   "source": [
    "sys.getdefaultencoding()"
   ]
  },
  {
   "cell_type": "code",
   "execution_count": 183,
   "id": "40d762fc",
   "metadata": {},
   "outputs": [
    {
     "data": {
      "image/png": "[encoded data removed]",
      "text/plain": [
       "<Figure size 432x432 with 1 Axes>"
      ]
     },
     "metadata": {
      "needs_background": "light"
     },
     "output_type": "display_data"
    }
   ],
   "source": [
    "plt.figure(figsize=(6, 6))\n",
    "plt.scatter(Task_A['QQ'],Task_A['UNADJ'], c='tab:blue',linewidths=.5, s= 2)\n",
    "\n",
    "plt.xlabel(\"expected p-values\")\n",
    "plt.ylabel(\"observed p-values\")\n",
    "plt.xscale(\"log\")\n",
    "plt.yscale(\"log\")\n",
    "plt.xlim([1,10**(-8)])\n",
    "plt.ylim([1,10**(-14)])\n",
    "plt.plot([1,10**(-14)],[1,10**(-14)],c='blue',linewidth=1)\n",
    "\n",
    "plt.suptitle(\"Q-Q Plot uncalibrated p-values\")\n",
    "plt.title('\\u03BB =' + str(lamb_uncal))\n",
    "\n",
    "#plt.legend()\n",
    "plt.savefig(\"output_a.jpg\")\n",
    "plt.show()\n"
   ]
  },
  {
   "cell_type": "code",
   "execution_count": 184,
   "id": "fde8c92d",
   "metadata": {},
   "outputs": [
    {
     "data": {
      "image/png": "[encoded data removed]",
      "text/plain": [
       "<Figure size 432x432 with 1 Axes>"
      ]
     },
     "metadata": {
      "needs_background": "light"
     },
     "output_type": "display_data"
    }
   ],
   "source": [
    "plt.figure(figsize=(6, 6))\n",
    "plt.scatter(Task_B ['QQ'],Task_B['GC'],c='tab:orange',linewidths=.5, s=2)\n",
    "\n",
    "\n",
    "plt.xlabel(\"expected p-values\")\n",
    "plt.ylabel(\"observed p-values\")\n",
    "plt.xscale(\"log\")\n",
    "plt.yscale(\"log\")\n",
    "plt.xlim([1,10**(-10)])\n",
    "plt.ylim([1,10**(-10)])\n",
    "plt.plot([1,10**(-10)],[1,10**(-10)],c='blue',linewidth=1)\n",
    "\n",
    "plt.suptitle(\"Q-Q Plot callebrated by genomic control p-values\")\n",
    "plt.title('\\u03BB =' + str(lamb_cal))\n",
    "\n",
    "#plt.legend()\n",
    "plt.savefig(\"output_b.jpg\")\n",
    "plt.show()\n"
   ]
  },
  {
   "cell_type": "code",
   "execution_count": 187,
   "id": "d18f68e4",
   "metadata": {},
   "outputs": [
    {
     "data": {
      "image/png": "[encoded data removed]",
      "text/plain": [
       "<Figure size 432x432 with 1 Axes>"
      ]
     },
     "metadata": {
      "needs_background": "light"
     },
     "output_type": "display_data"
    }
   ],
   "source": [
    "plt.figure(figsize=(6, 6))\n",
    "\n",
    "plt.scatter(Task_B['QQ'],Task_B['BONF'], c='tab:orange',linewidths=.5,s=2, label ='calibrated')\n",
    "\n",
    "plt.xlabel(\"expected p-values\")\n",
    "plt.ylabel(\"observed p-values\")\n",
    "plt.xscale(\"log\")\n",
    "plt.yscale(\"log\")\n",
    "\n",
    "plt.xlim([2,10**(-10)])\n",
    "plt.ylim([2,10**(-10)])\n",
    "plt.plot([1,10**(-10)],[1,10**(-10)],c='blue',linewidth=0.5)\n",
    "\n",
    "\n",
    "plt.suptitle(\"Q-Q Plot Bonferroni corrected p-values\")\n",
    "plt.title(\"\\u03BB= \"+ str(lamb_bonf))\n",
    "\n",
    "plt.legend()\n",
    "plt.savefig(\"output_c_corr.jpg\")\n",
    "plt.show()\n"
   ]
  },
  {
   "cell_type": "code",
   "execution_count": 9,
   "id": "13f2a9ca",
   "metadata": {},
   "outputs": [
    {
     "data": {
      "image/png": "[encoded data removed]",
      "text/plain": [
       "<Figure size 432x432 with 1 Axes>"
      ]
     },
     "metadata": {
      "needs_background": "light"
     },
     "output_type": "display_data"
    }
   ],
   "source": [
    "plt.figure(figsize=(6, 6))\n",
    "plt.scatter(Task_A['QQ'],Task_A['BONF'], c='tab:blue',linewidths=.5, s=2, label ='uncalibrated')\n",
    "\n",
    "plt.xlabel(\"expected p-values\")\n",
    "plt.ylabel(\"observed p-values\")\n",
    "plt.xscale(\"log\")\n",
    "plt.yscale(\"log\")\n",
    "\n",
    "plt.xlim([2,10**(-10)])\n",
    "plt.ylim([2,10**(-10)])\n",
    "plt.plot([1,10**(-10)],[1,10**(-10)],c='blue',linewidth=0.5)\n",
    "\n",
    "\n",
    "plt.title(\"Q-Q Plot Bonferroni corrected p-values\")\n",
    "\n",
    "plt.legend()\n",
    "plt.savefig(\"output_c_uncorr.jpg\")\n",
    "plt.show()"
   ]
  },
  {
   "cell_type": "code",
   "execution_count": 79,
   "id": "5346a695",
   "metadata": {},
   "outputs": [
    {
     "data": {
      "text/plain": [
       "(array([      0.,       0.,       0.,       0.,       0., 1440504.,\n",
       "              0.,       0.,       0.,       0.]),\n",
       " array([0.5, 0.6, 0.7, 0.8, 0.9, 1. , 1.1, 1.2, 1.3, 1.4, 1.5]),\n",
       " <BarContainer object of 10 artists>)"
      ]
     },
     "execution_count": 79,
     "metadata": {},
     "output_type": "execute_result"
    },
    {
     "data": {
      "image/png": "[encoded data removed]",
      "text/plain": [
       "<Figure size 432x288 with 1 Axes>"
      ]
     },
     "metadata": {
      "needs_background": "light"
     },
     "output_type": "display_data"
    }
   ],
   "source": [
    "plt.hist(Task_B['BONF'])"
   ]
  },
  {
   "cell_type": "code",
   "execution_count": 80,
   "id": "f45a8a17",
   "metadata": {},
   "outputs": [
    {
     "data": {
      "text/plain": [
       "(array([5.664000e+03, 1.579000e+03, 1.006000e+03, 8.220000e+02,\n",
       "        7.060000e+02, 6.040000e+02, 5.700000e+02, 5.620000e+02,\n",
       "        4.940000e+02, 1.428497e+06]),\n",
       " array([3.12300000e-09, 1.00000003e-01, 2.00000002e-01, 3.00000002e-01,\n",
       "        4.00000002e-01, 5.00000002e-01, 6.00000001e-01, 7.00000001e-01,\n",
       "        8.00000001e-01, 9.00000000e-01, 1.00000000e+00]),\n",
       " <BarContainer object of 10 artists>)"
      ]
     },
     "execution_count": 80,
     "metadata": {},
     "output_type": "execute_result"
    },
    {
     "data": {
      "image/png": "[encoded data removed]",
      "text/plain": [
       "<Figure size 432x288 with 1 Axes>"
      ]
     },
     "metadata": {
      "needs_background": "light"
     },
     "output_type": "display_data"
    }
   ],
   "source": [
    "plt.hist(Task_A['BONF'])"
   ]
  },
  {
   "cell_type": "code",
   "execution_count": 10,
   "id": "5d4e4189",
   "metadata": {},
   "outputs": [],
   "source": [
    "import numpy as np\n",
    "from fastlmm.association import single_snp\n",
    "from fastlmm.util import example_file "
   ]
  },
  {
   "cell_type": "code",
   "execution_count": 12,
   "id": "4bd355f9",
   "metadata": {},
   "outputs": [
    {
     "ename": "AssertionError",
     "evalue": "With multiple phenotypes, an individual's values must either be all missing or have no missing.",
     "output_type": "error",
     "traceback": [
      "\u001b[1;31m---------------------------------------------------------------------------\u001b[0m",
      "\u001b[1;31mAssertionError\u001b[0m                            Traceback (most recent call last)",
      "\u001b[1;32m<ipython-input-12-fd6429d17b84>\u001b[0m in \u001b[0;36m<module>\u001b[1;34m\u001b[0m\n\u001b[1;32m----> 1\u001b[1;33m \u001b[0mresults_df\u001b[0m \u001b[1;33m=\u001b[0m \u001b[0msingle_snp\u001b[0m\u001b[1;33m(\u001b[0m\u001b[1;34m'plink'\u001b[0m\u001b[1;33m,\u001b[0m\u001b[0mpheno\u001b[0m\u001b[1;33m=\u001b[0m\u001b[1;34m'plink'\u001b[0m\u001b[1;33m,\u001b[0m \u001b[0mcount_A1\u001b[0m\u001b[1;33m=\u001b[0m\u001b[1;32mTrue\u001b[0m\u001b[1;33m)\u001b[0m\u001b[1;33m\u001b[0m\u001b[1;33m\u001b[0m\u001b[0m\n\u001b[0m",
      "\u001b[1;32m~\\anaconda3\\lib\\site-packages\\fastlmm\\association\\single_snp.py\u001b[0m in \u001b[0;36msingle_snp\u001b[1;34m(test_snps, pheno, K0, K1, mixing, covar, covar_by_chrom, leave_out_one_chrom, output_file_name, h2, log_delta, show_snp_fract_var_exp, cache_file, GB_goal, interact_with_snp, force_full_rank, force_low_rank, G0, G1, runner, map_reduce_outer, pvalue_threshold, random_threshold, random_seed, xp, count_A1)\u001b[0m\n\u001b[0;32m    233\u001b[0m         \u001b[0mpheno\u001b[0m \u001b[1;33m=\u001b[0m \u001b[0m_pheno_fixup\u001b[0m\u001b[1;33m(\u001b[0m\u001b[0mpheno\u001b[0m\u001b[1;33m,\u001b[0m \u001b[0mcount_A1\u001b[0m\u001b[1;33m=\u001b[0m\u001b[0mcount_A1\u001b[0m\u001b[1;33m)\u001b[0m\u001b[1;33m.\u001b[0m\u001b[0mread\u001b[0m\u001b[1;33m(\u001b[0m\u001b[1;33m)\u001b[0m\u001b[1;33m\u001b[0m\u001b[1;33m\u001b[0m\u001b[0m\n\u001b[0;32m    234\u001b[0m         \u001b[0mgood_values_per_iid\u001b[0m \u001b[1;33m=\u001b[0m \u001b[1;33m(\u001b[0m\u001b[0mpheno\u001b[0m\u001b[1;33m.\u001b[0m\u001b[0mval\u001b[0m \u001b[1;33m==\u001b[0m \u001b[0mpheno\u001b[0m\u001b[1;33m.\u001b[0m\u001b[0mval\u001b[0m\u001b[1;33m)\u001b[0m\u001b[1;33m.\u001b[0m\u001b[0msum\u001b[0m\u001b[1;33m(\u001b[0m\u001b[0maxis\u001b[0m\u001b[1;33m=\u001b[0m\u001b[1;36m1\u001b[0m\u001b[1;33m)\u001b[0m\u001b[1;33m\u001b[0m\u001b[1;33m\u001b[0m\u001b[0m\n\u001b[1;32m--> 235\u001b[1;33m         assert not np.any(\n\u001b[0m\u001b[0;32m    236\u001b[0m             \u001b[1;33m(\u001b[0m\u001b[0mgood_values_per_iid\u001b[0m \u001b[1;33m>\u001b[0m \u001b[1;36m0\u001b[0m\u001b[1;33m)\u001b[0m \u001b[1;33m*\u001b[0m \u001b[1;33m(\u001b[0m\u001b[0mgood_values_per_iid\u001b[0m \u001b[1;33m<\u001b[0m \u001b[0mpheno\u001b[0m\u001b[1;33m.\u001b[0m\u001b[0msid_count\u001b[0m\u001b[1;33m)\u001b[0m\u001b[1;33m\u001b[0m\u001b[1;33m\u001b[0m\u001b[0m\n\u001b[0;32m    237\u001b[0m         ), \"With multiple phenotypes, an individual's values must either be all missing or have no missing.\"\n",
      "\u001b[1;31mAssertionError\u001b[0m: With multiple phenotypes, an individual's values must either be all missing or have no missing."
     ]
    }
   ],
   "source": [
    "results_df = single_snp('plink',pheno='plink', count_A1=True)"
   ]
  },
  {
   "cell_type": "code",
   "execution_count": null,
   "id": "2c275085",
   "metadata": {},
   "outputs": [],
   "source": [
    "# qq plot\n",
    "from fastlmm.util.stats import plotp\n",
    "plotp.qqplot(results_df[\"PValue\"].values, xlim=[0,5], ylim=[0,5])"
   ]
  }
 ],
 "metadata": {
  "kernelspec": {
   "display_name": "Python 3",
   "language": "python",
   "name": "python3"
  },
  "language_info": {
   "codemirror_mode": {
    "name": "ipython",
    "version": 3
   },
   "file_extension": ".py",
   "mimetype": "text/x-python",
   "name": "python",
   "nbconvert_exporter": "python",
   "pygments_lexer": "ipython3",
   "version": "3.8.8"
  }
 },
 "nbformat": 4,
 "nbformat_minor": 5
}
