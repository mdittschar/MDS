{
 "cells": [
  {
   "cell_type": "code",
   "execution_count": 2,
   "id": "e0436db0",
   "metadata": {},
   "outputs": [],
   "source": [
    "import numpy as np"
   ]
  },
  {
   "cell_type": "code",
   "execution_count": 3,
   "id": "d9c64c4c",
   "metadata": {},
   "outputs": [],
   "source": [
    "w1 = np.array([[1,0.5,0.3,0.1,0.1],[0.5,1,0.4,0.1,0.1],[0.3,0.4,1,0.3,0.3],[0.1,0.1,0.3,1,0.5],[0.1,0.1,0.3,0.5,1]])\n",
    "w2 = np.array([[1,0.2,0.5,0.1,0.1],[0.2,1,0.3,0.1,0.1],[0.5,0.3,1,0.3,0.3],[0.1,0.1,0.3,1,0.5],[0.1,0.1,0.3,0.5,1]])"
   ]
  },
  {
   "cell_type": "code",
   "execution_count": 48,
   "id": "6405d6ff",
   "metadata": {},
   "outputs": [],
   "source": [
    "eta = 10**(-6)"
   ]
  },
  {
   "cell_type": "code",
   "execution_count": 4,
   "id": "766b0e17",
   "metadata": {},
   "outputs": [
    {
     "data": {
      "text/plain": [
       "array([[1. , 0.5, 0.3, 0.1, 0.1],\n",
       "       [0.5, 1. , 0.4, 0.1, 0.1],\n",
       "       [0.3, 0.4, 1. , 0.3, 0.3],\n",
       "       [0.1, 0.1, 0.3, 1. , 0.5],\n",
       "       [0.1, 0.1, 0.3, 0.5, 1. ]])"
      ]
     },
     "execution_count": 4,
     "metadata": {},
     "output_type": "execute_result"
    }
   ],
   "source": [
    "w1"
   ]
  },
  {
   "cell_type": "code",
   "execution_count": 41,
   "id": "c9850e1b",
   "metadata": {},
   "outputs": [],
   "source": [
    "def p(w):\n",
    "    x_dim = w.shape[0]\n",
    "    y_dim = w.shape[1]\n",
    "    p1 = np.zeros((x_dim,y_dim))\n",
    "    for i in np.arange(p1.shape[0]):\n",
    "        for j in np.arange(p1.shape[1]):\n",
    "            a = np.ma.array(w[i,:], mask=False)\n",
    "            a.mask[i] = True\n",
    "            if i == j:\n",
    "                p1[i,j] = 0.5\n",
    "            else: \n",
    "                p1[i,j] = w[i,j]/(2*a.sum())\n",
    "                \n",
    "    return p1\n",
    "        \n",
    "    \n",
    "def s(w, k):\n",
    "    x_dim = w.shape[0]\n",
    "    y_dim = w.shape[1]\n",
    "    s = np.zeros((x_dim, y_dim))\n",
    "    for i in np.arange(s.shape[0]):\n",
    "        idx = np.argsort(w[i, :])[::-1][:k]\n",
    "        for j in np.arange(s.shape[1]):           \n",
    "            if j in idx:\n",
    "                s[i,j] = w[i,j]/np.sum(w[i, idx])\n",
    "            else:\n",
    "                s[i,j] = 0    \n",
    "    return s\n",
    "\n",
    "def update_p(p, s):\n",
    "    p_plus = s*p*s.T\n",
    "    return p_plus\n",
    "            "
   ]
  },
  {
   "cell_type": "code",
   "execution_count": 39,
   "id": "069a5c35",
   "metadata": {},
   "outputs": [
    {
     "data": {
      "text/plain": [
       "array([[1. , 0.5, 0.3, 0.1, 0.1],\n",
       "       [0.5, 1. , 0.4, 0.1, 0.1],\n",
       "       [0.3, 0.4, 1. , 0.3, 0.3],\n",
       "       [0.1, 0.1, 0.3, 1. , 0.5],\n",
       "       [0.1, 0.1, 0.3, 0.5, 1. ]])"
      ]
     },
     "execution_count": 39,
     "metadata": {},
     "output_type": "execute_result"
    }
   ],
   "source": [
    "w1"
   ]
  },
  {
   "cell_type": "code",
   "execution_count": 40,
   "id": "97196041",
   "metadata": {
    "scrolled": true
   },
   "outputs": [],
   "source": [
    "s1 = s(w1, 2)\n",
    "s2 = s(w2, 2)"
   ]
  },
  {
   "cell_type": "code",
   "execution_count": 33,
   "id": "60605cb4",
   "metadata": {
    "scrolled": true
   },
   "outputs": [],
   "source": [
    "p1 = p(w1)\n"
   ]
  },
  {
   "cell_type": "code",
   "execution_count": 15,
   "id": "52b7d046",
   "metadata": {},
   "outputs": [],
   "source": [
    "p2 = p(w2)"
   ]
  },
  {
   "cell_type": "code",
   "execution_count": 34,
   "id": "c4fb9037",
   "metadata": {
    "scrolled": true
   },
   "outputs": [
    {
     "data": {
      "text/plain": [
       "array([[0.5       , 0.25      , 0.15      , 0.05      , 0.05      ],\n",
       "       [0.22727273, 0.5       , 0.18181818, 0.04545455, 0.04545455],\n",
       "       [0.11538462, 0.15384615, 0.5       , 0.11538462, 0.11538462],\n",
       "       [0.05      , 0.05      , 0.15      , 0.5       , 0.25      ],\n",
       "       [0.05      , 0.05      , 0.15      , 0.25      , 0.5       ]])"
      ]
     },
     "execution_count": 34,
     "metadata": {},
     "output_type": "execute_result"
    }
   ],
   "source": [
    "p1"
   ]
  },
  {
   "cell_type": "code",
   "execution_count": 17,
   "id": "3b7d3e9a",
   "metadata": {
    "scrolled": true
   },
   "outputs": [
    {
     "data": {
      "text/plain": [
       "array([[0.5       , 0.11111111, 0.27777778, 0.05555556, 0.05555556],\n",
       "       [0.14285714, 0.5       , 0.21428571, 0.07142857, 0.07142857],\n",
       "       [0.17857143, 0.10714286, 0.5       , 0.10714286, 0.10714286],\n",
       "       [0.05      , 0.05      , 0.15      , 0.5       , 0.25      ],\n",
       "       [0.05      , 0.05      , 0.15      , 0.25      , 0.5       ]])"
      ]
     },
     "execution_count": 17,
     "metadata": {},
     "output_type": "execute_result"
    }
   ],
   "source": [
    "p2"
   ]
  },
  {
   "cell_type": "code",
   "execution_count": 44,
   "id": "093bd49a",
   "metadata": {},
   "outputs": [],
   "source": [
    "p1_2 = update_p(p1, s1)\n",
    "p2_2 = update_p(p2, s2)"
   ]
  },
  {
   "cell_type": "code",
   "execution_count": 43,
   "id": "ed24bbb9",
   "metadata": {},
   "outputs": [
    {
     "data": {
      "text/plain": [
       "array([[0.22222222, 0.02777778, 0.        , 0.        , 0.        ],\n",
       "       [0.02525253, 0.22222222, 0.        , 0.        , 0.        ],\n",
       "       [0.        , 0.        , 0.25510204, 0.        , 0.        ],\n",
       "       [0.        , 0.        , 0.        , 0.22222222, 0.02777778],\n",
       "       [0.        , 0.        , 0.        , 0.02777778, 0.22222222]])"
      ]
     },
     "execution_count": 43,
     "metadata": {},
     "output_type": "execute_result"
    }
   ],
   "source": [
    "p1_2"
   ]
  },
  {
   "cell_type": "code",
   "execution_count": 45,
   "id": "b3319475",
   "metadata": {},
   "outputs": [
    {
     "data": {
      "text/plain": [
       "array([[0.22222222, 0.        , 0.0308642 , 0.        , 0.        ],\n",
       "       [0.        , 0.29585799, 0.        , 0.        , 0.        ],\n",
       "       [0.01984127, 0.        , 0.22222222, 0.        , 0.        ],\n",
       "       [0.        , 0.        , 0.        , 0.22222222, 0.02777778],\n",
       "       [0.        , 0.        , 0.        , 0.02777778, 0.22222222]])"
      ]
     },
     "execution_count": 45,
     "metadata": {},
     "output_type": "execute_result"
    }
   ],
   "source": [
    "p2_2"
   ]
  },
  {
   "cell_type": "code",
   "execution_count": 46,
   "id": "a6e16948",
   "metadata": {},
   "outputs": [],
   "source": [
    "pc = (p2_2 + p1_2)/2"
   ]
  },
  {
   "cell_type": "code",
   "execution_count": 47,
   "id": "e3fc58cb",
   "metadata": {},
   "outputs": [
    {
     "data": {
      "text/plain": [
       "array([[0.22222222, 0.01388889, 0.0154321 , 0.        , 0.        ],\n",
       "       [0.01262626, 0.25904011, 0.        , 0.        , 0.        ],\n",
       "       [0.00992063, 0.        , 0.23866213, 0.        , 0.        ],\n",
       "       [0.        , 0.        , 0.        , 0.22222222, 0.02777778],\n",
       "       [0.        , 0.        , 0.        , 0.02777778, 0.22222222]])"
      ]
     },
     "execution_count": 47,
     "metadata": {},
     "output_type": "execute_result"
    }
   ],
   "source": [
    "pc"
   ]
  }
 ],
 "metadata": {
  "kernelspec": {
   "display_name": "Python 3 (ipykernel)",
   "language": "python",
   "name": "python3"
  },
  "language_info": {
   "codemirror_mode": {
    "name": "ipython",
    "version": 3
   },
   "file_extension": ".py",
   "mimetype": "text/x-python",
   "name": "python",
   "nbconvert_exporter": "python",
   "pygments_lexer": "ipython3",
   "version": "3.8.5"
  }
 },
 "nbformat": 4,
 "nbformat_minor": 5
}
