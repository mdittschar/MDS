{
 "cells": [
  {
   "cell_type": "code",
   "execution_count": 1,
   "id": "e0436db0",
   "metadata": {},
   "outputs": [],
   "source": [
    "import numpy as np"
   ]
  },
  {
   "cell_type": "code",
   "execution_count": 2,
   "id": "d9c64c4c",
   "metadata": {},
   "outputs": [],
   "source": [
    "w1 = np.array([[1,0.5,0.3,0.1,0.1],[0.5,1,0.4,0.1,0.1],[0.3,0.4,1,0.3,0.3],[0.1,0.1,0.3,1,0.5],[0.1,0.1,0.3,0.5,1]])\n",
    "w2 = np.array([[1,0.2,0.5,0.1,0.1],[0.2,1,0.3,0.1,0.1],[0.5,0.3,1,0.3,0.3],[0.1,0.1,0.3,1,0.5],[0.1,0.1,0.3,0.5,1]])"
   ]
  },
  {
   "cell_type": "code",
   "execution_count": 3,
   "id": "6405d6ff",
   "metadata": {},
   "outputs": [],
   "source": [
    "eta = 10**(-6)"
   ]
  },
  {
   "cell_type": "code",
   "execution_count": 4,
   "id": "766b0e17",
   "metadata": {},
   "outputs": [
    {
     "data": {
      "text/plain": [
       "array([[1. , 0.5, 0.3, 0.1, 0.1],\n",
       "       [0.5, 1. , 0.4, 0.1, 0.1],\n",
       "       [0.3, 0.4, 1. , 0.3, 0.3],\n",
       "       [0.1, 0.1, 0.3, 1. , 0.5],\n",
       "       [0.1, 0.1, 0.3, 0.5, 1. ]])"
      ]
     },
     "execution_count": 4,
     "metadata": {},
     "output_type": "execute_result"
    }
   ],
   "source": [
    "w1"
   ]
  },
  {
   "cell_type": "code",
   "execution_count": 5,
   "id": "c9850e1b",
   "metadata": {},
   "outputs": [],
   "source": [
    "def p(w):\n",
    "    x_dim = w.shape[0]\n",
    "    y_dim = w.shape[1]\n",
    "    p1 = np.zeros((x_dim,y_dim))\n",
    "    for i in np.arange(p1.shape[0]):\n",
    "        for j in np.arange(p1.shape[1]):\n",
    "            a = np.ma.array(w[i,:], mask=False)\n",
    "            a.mask[i] = True\n",
    "            if i == j:\n",
    "                p1[i,j] = 0.5\n",
    "            else: \n",
    "                p1[i,j] = w[i,j]/(2*a.sum())\n",
    "                \n",
    "    return p1\n",
    "        \n",
    "    \n",
    "def s(w, k):\n",
    "    x_dim = w.shape[0]\n",
    "    y_dim = w.shape[1]\n",
    "    s = np.zeros((x_dim, y_dim))\n",
    "    for i in np.arange(s.shape[0]):\n",
    "        idx = np.argsort(w[i, :])[::-1][:k]\n",
    "        for j in np.arange(s.shape[1]):           \n",
    "            if j in idx:\n",
    "                s[i,j] = w[i,j]/np.sum(w[i, idx])\n",
    "            else:\n",
    "                s[i,j] = 0    \n",
    "    return s\n",
    "\n",
    "def update_p(p, s):\n",
    "    p_plus = s*p*s.T\n",
    "    return p_plus\n",
    "            "
   ]
  },
  {
   "cell_type": "code",
   "execution_count": 6,
   "id": "069a5c35",
   "metadata": {},
   "outputs": [
    {
     "data": {
      "text/plain": [
       "array([[1. , 0.5, 0.3, 0.1, 0.1],\n",
       "       [0.5, 1. , 0.4, 0.1, 0.1],\n",
       "       [0.3, 0.4, 1. , 0.3, 0.3],\n",
       "       [0.1, 0.1, 0.3, 1. , 0.5],\n",
       "       [0.1, 0.1, 0.3, 0.5, 1. ]])"
      ]
     },
     "execution_count": 6,
     "metadata": {},
     "output_type": "execute_result"
    }
   ],
   "source": [
    "w1"
   ]
  },
  {
   "cell_type": "code",
   "execution_count": 7,
   "id": "97196041",
   "metadata": {
    "scrolled": true
   },
   "outputs": [],
   "source": [
    "s1 = s(w1, 2)\n",
    "s2 = s(w2, 2)"
   ]
  },
  {
   "cell_type": "code",
   "execution_count": 20,
   "id": "ede7916a",
   "metadata": {
    "scrolled": true
   },
   "outputs": [
    {
     "data": {
      "text/plain": [
       "array([[0.66666667, 0.33333333, 0.        , 0.        , 0.        ],\n",
       "       [0.33333333, 0.66666667, 0.        , 0.        , 0.        ],\n",
       "       [0.        , 0.28571429, 0.71428571, 0.        , 0.        ],\n",
       "       [0.        , 0.        , 0.        , 0.66666667, 0.33333333],\n",
       "       [0.        , 0.        , 0.        , 0.33333333, 0.66666667]])"
      ]
     },
     "execution_count": 20,
     "metadata": {},
     "output_type": "execute_result"
    }
   ],
   "source": [
    "s1"
   ]
  },
  {
   "cell_type": "code",
   "execution_count": 21,
   "id": "797e3edb",
   "metadata": {},
   "outputs": [
    {
     "data": {
      "text/plain": [
       "array([[0.66666667, 0.        , 0.33333333, 0.        , 0.        ],\n",
       "       [0.        , 0.76923077, 0.23076923, 0.        , 0.        ],\n",
       "       [0.33333333, 0.        , 0.66666667, 0.        , 0.        ],\n",
       "       [0.        , 0.        , 0.        , 0.66666667, 0.33333333],\n",
       "       [0.        , 0.        , 0.        , 0.33333333, 0.66666667]])"
      ]
     },
     "execution_count": 21,
     "metadata": {},
     "output_type": "execute_result"
    }
   ],
   "source": [
    "s2"
   ]
  },
  {
   "cell_type": "code",
   "execution_count": 8,
   "id": "60605cb4",
   "metadata": {
    "scrolled": true
   },
   "outputs": [],
   "source": [
    "p1_0 = p(w1)\n"
   ]
  },
  {
   "cell_type": "code",
   "execution_count": 9,
   "id": "52b7d046",
   "metadata": {},
   "outputs": [],
   "source": [
    "p2_0 = p(w2)"
   ]
  },
  {
   "cell_type": "code",
   "execution_count": 10,
   "id": "c4fb9037",
   "metadata": {
    "scrolled": true
   },
   "outputs": [
    {
     "data": {
      "text/plain": [
       "array([[0.5       , 0.25      , 0.15      , 0.05      , 0.05      ],\n",
       "       [0.22727273, 0.5       , 0.18181818, 0.04545455, 0.04545455],\n",
       "       [0.11538462, 0.15384615, 0.5       , 0.11538462, 0.11538462],\n",
       "       [0.05      , 0.05      , 0.15      , 0.5       , 0.25      ],\n",
       "       [0.05      , 0.05      , 0.15      , 0.25      , 0.5       ]])"
      ]
     },
     "execution_count": 10,
     "metadata": {},
     "output_type": "execute_result"
    }
   ],
   "source": [
    "p1_0"
   ]
  },
  {
   "cell_type": "code",
   "execution_count": 11,
   "id": "3b7d3e9a",
   "metadata": {
    "scrolled": true
   },
   "outputs": [
    {
     "data": {
      "text/plain": [
       "array([[0.5       , 0.11111111, 0.27777778, 0.05555556, 0.05555556],\n",
       "       [0.14285714, 0.5       , 0.21428571, 0.07142857, 0.07142857],\n",
       "       [0.17857143, 0.10714286, 0.5       , 0.10714286, 0.10714286],\n",
       "       [0.05      , 0.05      , 0.15      , 0.5       , 0.25      ],\n",
       "       [0.05      , 0.05      , 0.15      , 0.25      , 0.5       ]])"
      ]
     },
     "execution_count": 11,
     "metadata": {},
     "output_type": "execute_result"
    }
   ],
   "source": [
    "p2_0"
   ]
  },
  {
   "cell_type": "code",
   "execution_count": 12,
   "id": "093bd49a",
   "metadata": {},
   "outputs": [],
   "source": [
    "p1_1 = update_p(p1_0, s2)\n",
    "p2_1 = update_p(p2_0, s1)"
   ]
  },
  {
   "cell_type": "code",
   "execution_count": 13,
   "id": "ed24bbb9",
   "metadata": {},
   "outputs": [
    {
     "data": {
      "text/plain": [
       "array([[0.22222222, 0.        , 0.01666667, 0.        , 0.        ],\n",
       "       [0.        , 0.29585799, 0.        , 0.        , 0.        ],\n",
       "       [0.01282051, 0.        , 0.22222222, 0.        , 0.        ],\n",
       "       [0.        , 0.        , 0.        , 0.22222222, 0.02777778],\n",
       "       [0.        , 0.        , 0.        , 0.02777778, 0.22222222]])"
      ]
     },
     "execution_count": 13,
     "metadata": {},
     "output_type": "execute_result"
    }
   ],
   "source": [
    "p1_1"
   ]
  },
  {
   "cell_type": "code",
   "execution_count": 14,
   "id": "b3319475",
   "metadata": {},
   "outputs": [
    {
     "data": {
      "text/plain": [
       "array([[0.22222222, 0.01234568, 0.        , 0.        , 0.        ],\n",
       "       [0.01587302, 0.22222222, 0.        , 0.        , 0.        ],\n",
       "       [0.        , 0.        , 0.25510204, 0.        , 0.        ],\n",
       "       [0.        , 0.        , 0.        , 0.22222222, 0.02777778],\n",
       "       [0.        , 0.        , 0.        , 0.02777778, 0.22222222]])"
      ]
     },
     "execution_count": 14,
     "metadata": {},
     "output_type": "execute_result"
    }
   ],
   "source": [
    "p2_1"
   ]
  },
  {
   "cell_type": "code",
   "execution_count": 15,
   "id": "a6e16948",
   "metadata": {},
   "outputs": [],
   "source": [
    "pc = (p2_1 + p1_1)/2"
   ]
  },
  {
   "cell_type": "code",
   "execution_count": 16,
   "id": "e3fc58cb",
   "metadata": {
    "scrolled": true
   },
   "outputs": [
    {
     "data": {
      "text/plain": [
       "array([[0.22222222, 0.00617284, 0.00833333, 0.        , 0.        ],\n",
       "       [0.00793651, 0.25904011, 0.        , 0.        , 0.        ],\n",
       "       [0.00641026, 0.        , 0.23866213, 0.        , 0.        ],\n",
       "       [0.        , 0.        , 0.        , 0.22222222, 0.02777778],\n",
       "       [0.        , 0.        , 0.        , 0.02777778, 0.22222222]])"
      ]
     },
     "execution_count": 16,
     "metadata": {},
     "output_type": "execute_result"
    }
   ],
   "source": [
    "pc"
   ]
  },
  {
   "cell_type": "code",
   "execution_count": 17,
   "id": "a587d737",
   "metadata": {},
   "outputs": [],
   "source": [
    "p1_2 = update_p(p1_1, s2)\n",
    "p2_2 = update_p(p2_1, s1)\n",
    "p1_3 = update_p(p1_2, s2)\n",
    "p2_3 = update_p(p2_2, s1)"
   ]
  },
  {
   "cell_type": "code",
   "execution_count": 18,
   "id": "61276490",
   "metadata": {},
   "outputs": [
    {
     "data": {
      "text/plain": [
       "array([[0.09876543, 0.00068587, 0.00092593, 0.        , 0.        ],\n",
       "       [0.00088183, 0.13691467, 0.        , 0.        , 0.        ],\n",
       "       [0.00071225, 0.        , 0.11445977, 0.        , 0.        ],\n",
       "       [0.        , 0.        , 0.        , 0.09876543, 0.00308642],\n",
       "       [0.        , 0.        , 0.        , 0.00308642, 0.09876543]])"
      ]
     },
     "execution_count": 18,
     "metadata": {},
     "output_type": "execute_result"
    }
   ],
   "source": [
    "pc_2 = (p2_2 + p1_2)/2\n",
    "pc_2"
   ]
  },
  {
   "cell_type": "code",
   "execution_count": 19,
   "id": "0971c23e",
   "metadata": {},
   "outputs": [
    {
     "data": {
      "text/plain": [
       "array([[4.38957476e-02, 7.62078951e-05, 1.02880658e-04, 0.00000000e+00,\n",
       "        0.00000000e+00],\n",
       "       [9.79815795e-05, 7.37419266e-02, 0.00000000e+00, 0.00000000e+00,\n",
       "        0.00000000e+00],\n",
       "       [7.91389680e-05, 0.00000000e+00, 5.51504510e-02, 0.00000000e+00,\n",
       "        0.00000000e+00],\n",
       "       [0.00000000e+00, 0.00000000e+00, 0.00000000e+00, 4.38957476e-02,\n",
       "        3.42935528e-04],\n",
       "       [0.00000000e+00, 0.00000000e+00, 0.00000000e+00, 3.42935528e-04,\n",
       "        4.38957476e-02]])"
      ]
     },
     "execution_count": 19,
     "metadata": {},
     "output_type": "execute_result"
    }
   ],
   "source": [
    "pc_3 = (p2_3 + p1_3)/2\n",
    "pc_3"
   ]
  }
 ],
 "metadata": {
  "kernelspec": {
   "display_name": "Python 3 (ipykernel)",
   "language": "python",
   "name": "python3"
  },
  "language_info": {
   "codemirror_mode": {
    "name": "ipython",
    "version": 3
   },
   "file_extension": ".py",
   "mimetype": "text/x-python",
   "name": "python",
   "nbconvert_exporter": "python",
   "pygments_lexer": "ipython3",
   "version": "3.8.5"
  }
 },
 "nbformat": 4,
 "nbformat_minor": 5
}
