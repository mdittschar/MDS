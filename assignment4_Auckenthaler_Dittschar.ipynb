{
 "cells": [
  {
   "cell_type": "code",
   "execution_count": 1,
   "id": "e0436db0",
   "metadata": {},
   "outputs": [],
   "source": [
    "import numpy as np"
   ]
  },
  {
   "cell_type": "code",
   "execution_count": 2,
   "id": "d9c64c4c",
   "metadata": {},
   "outputs": [],
   "source": [
    "w1 = np.array([[1,0.5,0.3,0.1,0.1],[0.5,1,0.4,0.1,0.1],[0.3,0.4,1,0.3,0.3],[0.1,0.1,0.3,1,0.5],[0.1,0.1,0.3,0.5,1]])\n",
    "w2 = np.array([[1,0.2,0.5,0.1,0.1],[0.2,1,0.3,0.1,0.1],[0.5,0.3,1,0.3,0.3],[0.1,0.1,0.3,1,0.5],[0.1,0.1,0.3,0.5,1]])"
   ]
  },
  {
   "cell_type": "code",
   "execution_count": 3,
   "id": "6405d6ff",
   "metadata": {},
   "outputs": [],
   "source": [
    "eta = 10**(-6)"
   ]
  },
  {
   "cell_type": "code",
   "execution_count": 4,
   "id": "766b0e17",
   "metadata": {
    "scrolled": true
   },
   "outputs": [
    {
     "data": {
      "text/plain": [
       "array([[1. , 0.5, 0.3, 0.1, 0.1],\n",
       "       [0.5, 1. , 0.4, 0.1, 0.1],\n",
       "       [0.3, 0.4, 1. , 0.3, 0.3],\n",
       "       [0.1, 0.1, 0.3, 1. , 0.5],\n",
       "       [0.1, 0.1, 0.3, 0.5, 1. ]])"
      ]
     },
     "execution_count": 4,
     "metadata": {},
     "output_type": "execute_result"
    }
   ],
   "source": [
    "w1"
   ]
  },
  {
   "cell_type": "code",
   "execution_count": 5,
   "id": "078e6a5d",
   "metadata": {},
   "outputs": [
    {
     "data": {
      "text/plain": [
       "array([[1. , 0.2, 0.5, 0.1, 0.1],\n",
       "       [0.2, 1. , 0.3, 0.1, 0.1],\n",
       "       [0.5, 0.3, 1. , 0.3, 0.3],\n",
       "       [0.1, 0.1, 0.3, 1. , 0.5],\n",
       "       [0.1, 0.1, 0.3, 0.5, 1. ]])"
      ]
     },
     "execution_count": 5,
     "metadata": {},
     "output_type": "execute_result"
    }
   ],
   "source": [
    "w2"
   ]
  },
  {
   "cell_type": "code",
   "execution_count": 6,
   "id": "c9850e1b",
   "metadata": {},
   "outputs": [],
   "source": [
    "def p(w):\n",
    "    x_dim = w.shape[0]\n",
    "    y_dim = w.shape[1]\n",
    "    p1 = np.zeros((x_dim,y_dim))\n",
    "    for i in np.arange(p1.shape[0]):\n",
    "        for j in np.arange(p1.shape[1]):\n",
    "            a = np.ma.array(w[i,:], mask=False)\n",
    "            a.mask[i] = True\n",
    "            if i == j:\n",
    "                p1[i,j] = 0.5\n",
    "            else: \n",
    "                p1[i,j] = w[i,j]/(2*a.sum())\n",
    "                \n",
    "    return p1\n",
    "        \n",
    "    \n",
    "def s(w, k):\n",
    "    x_dim = w.shape[0]\n",
    "    y_dim = w.shape[1]\n",
    "    s = np.zeros((x_dim, y_dim))\n",
    "    for i in np.arange(s.shape[0]):\n",
    "        idx = np.argsort(w[i, :])[::-1][:k]\n",
    "        for j in np.arange(s.shape[1]):           \n",
    "            if j in idx:\n",
    "                s[i,j] = w[i,j]/np.sum(w[i, idx])\n",
    "            else:\n",
    "                s[i,j] = 0    \n",
    "    return s\n",
    "\n",
    "def update_p(p, s):\n",
    "    p_plus = s@p@s.T\n",
    "    return p_plus\n",
    "            "
   ]
  },
  {
   "cell_type": "code",
   "execution_count": 7,
   "id": "069a5c35",
   "metadata": {},
   "outputs": [
    {
     "data": {
      "text/plain": [
       "array([[1. , 0.5, 0.3, 0.1, 0.1],\n",
       "       [0.5, 1. , 0.4, 0.1, 0.1],\n",
       "       [0.3, 0.4, 1. , 0.3, 0.3],\n",
       "       [0.1, 0.1, 0.3, 1. , 0.5],\n",
       "       [0.1, 0.1, 0.3, 0.5, 1. ]])"
      ]
     },
     "execution_count": 7,
     "metadata": {},
     "output_type": "execute_result"
    }
   ],
   "source": [
    "w1"
   ]
  },
  {
   "cell_type": "code",
   "execution_count": 8,
   "id": "97196041",
   "metadata": {
    "scrolled": true
   },
   "outputs": [],
   "source": [
    "s1 = s(w1, 2)\n",
    "s2 = s(w2, 2)"
   ]
  },
  {
   "cell_type": "code",
   "execution_count": 9,
   "id": "71a1c787",
   "metadata": {
    "scrolled": true
   },
   "outputs": [
    {
     "data": {
      "text/plain": [
       "array([[0.66666667, 0.33333333, 0.        , 0.        , 0.        ],\n",
       "       [0.33333333, 0.66666667, 0.        , 0.        , 0.        ],\n",
       "       [0.        , 0.28571429, 0.71428571, 0.        , 0.        ],\n",
       "       [0.        , 0.        , 0.        , 0.66666667, 0.33333333],\n",
       "       [0.        , 0.        , 0.        , 0.33333333, 0.66666667]])"
      ]
     },
     "execution_count": 9,
     "metadata": {},
     "output_type": "execute_result"
    }
   ],
   "source": [
    "s1"
   ]
  },
  {
   "cell_type": "code",
   "execution_count": 10,
   "id": "d1ca7fd2",
   "metadata": {},
   "outputs": [
    {
     "data": {
      "text/plain": [
       "array([[0.66666667, 0.        , 0.33333333, 0.        , 0.        ],\n",
       "       [0.        , 0.76923077, 0.23076923, 0.        , 0.        ],\n",
       "       [0.33333333, 0.        , 0.66666667, 0.        , 0.        ],\n",
       "       [0.        , 0.        , 0.        , 0.66666667, 0.33333333],\n",
       "       [0.        , 0.        , 0.        , 0.33333333, 0.66666667]])"
      ]
     },
     "execution_count": 10,
     "metadata": {},
     "output_type": "execute_result"
    }
   ],
   "source": [
    "s2"
   ]
  },
  {
   "cell_type": "code",
   "execution_count": 11,
   "id": "60605cb4",
   "metadata": {
    "scrolled": true
   },
   "outputs": [],
   "source": [
    "p2_0 = p(w1)\n"
   ]
  },
  {
   "cell_type": "code",
   "execution_count": 12,
   "id": "52b7d046",
   "metadata": {},
   "outputs": [],
   "source": [
    "p1_0 = p(w2)"
   ]
  },
  {
   "cell_type": "code",
   "execution_count": 13,
   "id": "c4fb9037",
   "metadata": {
    "scrolled": true
   },
   "outputs": [
    {
     "data": {
      "text/plain": [
       "array([[0.5       , 0.11111111, 0.27777778, 0.05555556, 0.05555556],\n",
       "       [0.14285714, 0.5       , 0.21428571, 0.07142857, 0.07142857],\n",
       "       [0.17857143, 0.10714286, 0.5       , 0.10714286, 0.10714286],\n",
       "       [0.05      , 0.05      , 0.15      , 0.5       , 0.25      ],\n",
       "       [0.05      , 0.05      , 0.15      , 0.25      , 0.5       ]])"
      ]
     },
     "execution_count": 13,
     "metadata": {},
     "output_type": "execute_result"
    }
   ],
   "source": [
    "p1_0"
   ]
  },
  {
   "cell_type": "code",
   "execution_count": 14,
   "id": "3b7d3e9a",
   "metadata": {
    "scrolled": true
   },
   "outputs": [
    {
     "data": {
      "text/plain": [
       "array([[0.5       , 0.25      , 0.15      , 0.05      , 0.05      ],\n",
       "       [0.22727273, 0.5       , 0.18181818, 0.04545455, 0.04545455],\n",
       "       [0.11538462, 0.15384615, 0.5       , 0.11538462, 0.11538462],\n",
       "       [0.05      , 0.05      , 0.15      , 0.5       , 0.25      ],\n",
       "       [0.05      , 0.05      , 0.15      , 0.25      , 0.5       ]])"
      ]
     },
     "execution_count": 14,
     "metadata": {},
     "output_type": "execute_result"
    }
   ],
   "source": [
    "p2_0"
   ]
  },
  {
   "cell_type": "code",
   "execution_count": 15,
   "id": "093bd49a",
   "metadata": {},
   "outputs": [],
   "source": [
    "p2_1 = update_p(p1_0, s2)\n",
    "p1_1 = update_p(p2_0, s1)"
   ]
  },
  {
   "cell_type": "code",
   "execution_count": 16,
   "id": "ed24bbb9",
   "metadata": {},
   "outputs": [
    {
     "data": {
      "text/plain": [
       "array([[0.38383838, 0.35858586, 0.20995671, 0.04848485, 0.04848485],\n",
       "       [0.3510101 , 0.38383838, 0.24134199, 0.0469697 , 0.0469697 ],\n",
       "       [0.18248418, 0.21761572, 0.36442129, 0.0954046 , 0.0954046 ],\n",
       "       [0.05      , 0.05      , 0.12142857, 0.38888889, 0.36111111],\n",
       "       [0.05      , 0.05      , 0.12142857, 0.36111111, 0.38888889]])"
      ]
     },
     "execution_count": 16,
     "metadata": {},
     "output_type": "execute_result"
    }
   ],
   "source": [
    "p1_1"
   ]
  },
  {
   "cell_type": "code",
   "execution_count": 17,
   "id": "b3319475",
   "metadata": {},
   "outputs": [
    {
     "data": {
      "text/plain": [
       "array([[0.37918871, 0.16564917, 0.36552028, 0.07275132, 0.07275132],\n",
       "       [0.19413919, 0.37954353, 0.23717949, 0.07967033, 0.07967033],\n",
       "       [0.3324515 , 0.18172568, 0.37918871, 0.08994709, 0.08994709],\n",
       "       [0.08333333, 0.07307692, 0.11666667, 0.38888889, 0.36111111],\n",
       "       [0.08333333, 0.07307692, 0.11666667, 0.36111111, 0.38888889]])"
      ]
     },
     "execution_count": 17,
     "metadata": {},
     "output_type": "execute_result"
    }
   ],
   "source": [
    "p2_1"
   ]
  },
  {
   "cell_type": "code",
   "execution_count": 18,
   "id": "a6e16948",
   "metadata": {},
   "outputs": [],
   "source": [
    "pc_1 = (p2_1 + p1_1)/2"
   ]
  },
  {
   "cell_type": "code",
   "execution_count": 19,
   "id": "e3fc58cb",
   "metadata": {
    "scrolled": true
   },
   "outputs": [
    {
     "data": {
      "text/plain": [
       "array([[0.38151355, 0.26211751, 0.2877385 , 0.06061809, 0.06061809],\n",
       "       [0.27257465, 0.38169096, 0.23926074, 0.06332001, 0.06332001],\n",
       "       [0.25746784, 0.1996707 , 0.371805  , 0.09267584, 0.09267584],\n",
       "       [0.06666667, 0.06153846, 0.11904762, 0.38888889, 0.36111111],\n",
       "       [0.06666667, 0.06153846, 0.11904762, 0.36111111, 0.38888889]])"
      ]
     },
     "execution_count": 19,
     "metadata": {},
     "output_type": "execute_result"
    }
   ],
   "source": [
    "pc_1"
   ]
  },
  {
   "cell_type": "code",
   "execution_count": 20,
   "id": "a88060e8",
   "metadata": {},
   "outputs": [],
   "source": [
    "p2_2 = update_p(p1_1, s2)\n",
    "p1_2 = update_p(p2_1, s1)\n",
    "p2_3 = update_p(p1_2, s2)\n",
    "p1_3 = update_p(p2_2, s1)"
   ]
  },
  {
   "cell_type": "code",
   "execution_count": 21,
   "id": "e309b516",
   "metadata": {
    "scrolled": true
   },
   "outputs": [
    {
     "data": {
      "text/plain": [
       "array([[0.29065279, 0.26380004, 0.29822781, 0.07505766, 0.07505766],\n",
       "       [0.27329671, 0.29077106, 0.28804137, 0.07736399, 0.07736399],\n",
       "       [0.27470415, 0.25647461, 0.30993763, 0.08701087, 0.08701087],\n",
       "       [0.07991453, 0.07649573, 0.10421245, 0.37654321, 0.37345679],\n",
       "       [0.07991453, 0.07649573, 0.10421245, 0.37345679, 0.37654321]])"
      ]
     },
     "execution_count": 21,
     "metadata": {},
     "output_type": "execute_result"
    }
   ],
   "source": [
    "p1_2"
   ]
  },
  {
   "cell_type": "code",
   "execution_count": 22,
   "id": "7ed25f0b",
   "metadata": {},
   "outputs": [
    {
     "data": {
      "text/plain": [
       "array([[0.29829518, 0.30002253, 0.27987004, 0.06412476, 0.06412476],\n",
       "       [0.29799464, 0.32800214, 0.28386977, 0.05814698, 0.05814698],\n",
       "       [0.27071253, 0.27575823, 0.29182282, 0.07976468, 0.07976468],\n",
       "       [0.07380952, 0.06648352, 0.09761905, 0.37654321, 0.37345679],\n",
       "       [0.07380952, 0.06648352, 0.09761905, 0.37345679, 0.37654321]])"
      ]
     },
     "execution_count": 22,
     "metadata": {},
     "output_type": "execute_result"
    }
   ],
   "source": [
    "p2_2"
   ]
  },
  {
   "cell_type": "code",
   "execution_count": 23,
   "id": "fbe61a9a",
   "metadata": {},
   "outputs": [
    {
     "data": {
      "text/plain": [
       "array([[0.29447398, 0.28191128, 0.28904893, 0.06959121, 0.06959121],\n",
       "       [0.28564568, 0.3093866 , 0.28595557, 0.06775549, 0.06775549],\n",
       "       [0.27270834, 0.26611642, 0.30088022, 0.08338778, 0.08338778],\n",
       "       [0.07686203, 0.07148962, 0.10091575, 0.37654321, 0.37345679],\n",
       "       [0.07686203, 0.07148962, 0.10091575, 0.37345679, 0.37654321]])"
      ]
     },
     "execution_count": 23,
     "metadata": {},
     "output_type": "execute_result"
    }
   ],
   "source": [
    "pc_2 = (p2_2 + p1_2)/2\n",
    "pc_2"
   ]
  },
  {
   "cell_type": "code",
   "execution_count": 24,
   "id": "3d86a6c8",
   "metadata": {
    "scrolled": true
   },
   "outputs": [
    {
     "data": {
      "text/plain": [
       "array([[0.29642388, 0.2881992 , 0.29288892, 0.07058712, 0.07058712],\n",
       "       [0.29253377, 0.29851721, 0.28973269, 0.06986489, 0.06986489],\n",
       "       [0.28562916, 0.27820782, 0.29361885, 0.07830733, 0.07830733],\n",
       "       [0.07969068, 0.07590871, 0.09241816, 0.37517147, 0.37482853],\n",
       "       [0.07969068, 0.07590871, 0.09241816, 0.37482853, 0.37517147]])"
      ]
     },
     "execution_count": 24,
     "metadata": {},
     "output_type": "execute_result"
    }
   ],
   "source": [
    "pc_3 = (p2_3 + p1_3)/2\n",
    "pc_3"
   ]
  },
  {
   "cell_type": "code",
   "execution_count": 25,
   "id": "5c86a42d",
   "metadata": {},
   "outputs": [],
   "source": [
    "p2_4 = update_p(p1_3, s2)\n",
    "p1_4 = update_p(p2_3, s1)"
   ]
  },
  {
   "cell_type": "code",
   "execution_count": 26,
   "id": "5bb50973",
   "metadata": {
    "scrolled": true
   },
   "outputs": [
    {
     "data": {
      "text/plain": [
       "array([[0.28843709, 0.28826189, 0.28982074, 0.07258781, 0.07258781],\n",
       "       [0.28993187, 0.29215937, 0.29095347, 0.07132529, 0.07132529],\n",
       "       [0.28572912, 0.28520626, 0.28899848, 0.0759071 , 0.0759071 ],\n",
       "       [0.08172963, 0.07904671, 0.0876368 , 0.37501905, 0.37498095],\n",
       "       [0.08172963, 0.07904671, 0.0876368 , 0.37498095, 0.37501905]])"
      ]
     },
     "execution_count": 26,
     "metadata": {},
     "output_type": "execute_result"
    }
   ],
   "source": [
    "pc_4 = (p1_4 + p2_4)/2\n",
    "pc_4"
   ]
  },
  {
   "cell_type": "code",
   "execution_count": 27,
   "id": "bd872eee",
   "metadata": {},
   "outputs": [],
   "source": [
    "def check(pc1, pc2):\n",
    "    checksum = np.abs(np.sum(pc2) - np.sum(pc1))\n",
    "    if checksum < eta:\n",
    "        return True, checksum\n",
    "    else:\n",
    "        return False, checksum"
   ]
  },
  {
   "cell_type": "code",
   "execution_count": 28,
   "id": "f592370d",
   "metadata": {},
   "outputs": [],
   "source": [
    "def get_ps(p1, p2, s1, s2):\n",
    "    p2_5 = update_p(p1, s2)\n",
    "    p1_5 = update_p(p2, s1)\n",
    "    pc_5 = (p1_5 + p2_5)/2\n",
    "    return p1_5, p2_5, pc_5\n",
    "\n",
    "p1_5, p2_5, pc_5 = get_ps(p1_4, p2_4, s1, s2)\n",
    "p1_6, p2_6, pc_6 = get_ps(p1_5, p2_5, s1, s2)\n",
    "p1_7, p2_7, pc_7 = get_ps(p1_6, p2_6, s1, s2)\n",
    "p1_8, p2_8, pc_8 = get_ps(p1_7, p2_7, s1, s2)\n",
    "p1_9, p2_9, pc_9 = get_ps(p1_8, p2_8, s1, s2)\n",
    "p1_10, p2_10, pc_10 = get_ps(p1_9, p2_9, s1, s2)\n",
    "p1_11, p2_11, pc_11 = get_ps(p1_10, p2_10,s1, s2)\n",
    "p1_12, p2_12, pc_12 = get_ps(p1_11, p2_11,s1, s2)\n",
    "p1_13, p2_13, pc_13 = get_ps(p1_12, p2_12,s1, s2)\n",
    "p1_14, p2_14, pc_14 = get_ps(p1_13, p2_13,s1, s2)\n",
    "p1_15, p2_15, pc_15 = get_ps(p1_14, p2_14,s1, s2)\n",
    "p1_16, p2_16, pc_16 = get_ps(p1_15, p2_15,s1, s2)\n",
    "p1_17, p2_17, pc_17 = get_ps(p1_16, p2_16,s1, s2)\n",
    "p1_18, p2_18, pc_18 = get_ps(p1_17, p2_17,s1, s2)\n",
    "p1_19, p2_19, pc_19 = get_ps(p1_17, p2_17,s1, s2)\n",
    "\n"
   ]
  },
  {
   "cell_type": "code",
   "execution_count": 29,
   "id": "2783ae86",
   "metadata": {
    "scrolled": true
   },
   "outputs": [
    {
     "name": "stdout",
     "output_type": "stream",
     "text": [
      "The difference between Pc1 and Pc2 is smaller than eta: (False, 0.05544205169049121)\n",
      "The difference between Pc2 and Pc3 is smaller than eta: (False, 0.023174497327804744)\n",
      "The difference between Pc3 and Pc4 is smaller than eta: (False, 0.013340272645144147)\n",
      "The difference between Pc4 and Pc5 is smaller than eta: (False, 0.006513816851970944)\n",
      "The difference between Pc5 and Pc6 is smaller than eta: (False, 0.0037355137720904708)\n",
      "The difference between Pc6 and Pc7 is smaller than eta: (False, 0.0018272153634146804)\n",
      "The difference between Pc7 and Pc8 is smaller than eta: (False, 0.0010811816670956986)\n",
      "The difference between Pc8 and Pc9 is smaller than eta: (False, 0.000513369709643996)\n",
      "The difference between Pc9 and Pc10 is smaller than eta: (False, 0.00031394501742809666)\n",
      "The difference between Pc10 and Pc11 is smaller than eta: (False, 0.00014465350578252156)\n",
      "The difference between Pc11 and Pc12 is smaller than eta: (False, 9.092188405102064e-05)\n",
      "The difference between Pc12 and Pc13 is smaller than eta: (False, 4.088009384961566e-05)\n",
      "The difference between Pc13 and Pc14 is smaller than eta: (False, 2.6249886181162196e-05)\n",
      "The difference between Pc14 and Pc15 is smaller than eta: (False, 1.1582346125749154e-05)\n",
      "The difference between Pc15 and Pc16 is smaller than eta: (False, 7.5589451551394404e-06)\n",
      "The difference between Pc16 and Pc17 is smaller than eta: (False, 3.2882200109440873e-06)\n",
      "The difference between Pc17 and Pc18 is smaller than eta: (False, 2.1723631871140014e-06)\n",
      "The difference between Pc18 and Pc19 is smaller than eta: (True, 0.0)\n"
     ]
    }
   ],
   "source": [
    "print(f\"The difference between Pc1 and Pc2 is smaller than eta: {check(pc_1, pc_2)}\")\n",
    "print(f\"The difference between Pc2 and Pc3 is smaller than eta: {check(pc_2, pc_3)}\")\n",
    "print(f\"The difference between Pc3 and Pc4 is smaller than eta: {check(pc_3, pc_4)}\")\n",
    "print(f\"The difference between Pc4 and Pc5 is smaller than eta: {check(pc_4, pc_5)}\")\n",
    "print(f\"The difference between Pc5 and Pc6 is smaller than eta: {check(pc_5, pc_6)}\")\n",
    "print(f\"The difference between Pc6 and Pc7 is smaller than eta: {check(pc_6, pc_7)}\")\n",
    "print(f\"The difference between Pc7 and Pc8 is smaller than eta: {check(pc_7, pc_8)}\")\n",
    "print(f\"The difference between Pc8 and Pc9 is smaller than eta: {check(pc_8, pc_9)}\")\n",
    "print(f\"The difference between Pc9 and Pc10 is smaller than eta: {check(pc_9, pc_10)}\")\n",
    "print(f\"The difference between Pc10 and Pc11 is smaller than eta: {check(pc_10, pc_11)}\")\n",
    "print(f\"The difference between Pc11 and Pc12 is smaller than eta: {check(pc_11, pc_12)}\")\n",
    "print(f\"The difference between Pc12 and Pc13 is smaller than eta: {check(pc_12, pc_13)}\")\n",
    "print(f\"The difference between Pc13 and Pc14 is smaller than eta: {check(pc_13, pc_14)}\")\n",
    "print(f\"The difference between Pc14 and Pc15 is smaller than eta: {check(pc_14, pc_15)}\")\n",
    "print(f\"The difference between Pc15 and Pc16 is smaller than eta: {check(pc_15, pc_16)}\")\n",
    "print(f\"The difference between Pc16 and Pc17 is smaller than eta: {check(pc_16, pc_17)}\")\n",
    "print(f\"The difference between Pc17 and Pc18 is smaller than eta: {check(pc_17, pc_18)}\")\n",
    "print(f\"The difference between Pc18 and Pc19 is smaller than eta: {check(pc_18, pc_19)}\")"
   ]
  },
  {
   "cell_type": "code",
   "execution_count": 30,
   "id": "a91a0b2c",
   "metadata": {},
   "outputs": [
    {
     "data": {
      "text/plain": [
       "array([[0.28950161, 0.28950163, 0.28950179, 0.07309903, 0.07309903],\n",
       "       [0.28950214, 0.28950216, 0.28950233, 0.07309854, 0.07309854],\n",
       "       [0.28950139, 0.28950141, 0.28950157, 0.0730993 , 0.0730993 ],\n",
       "       [0.08260886, 0.08260799, 0.0826094 , 0.375     , 0.375     ],\n",
       "       [0.08260886, 0.08260799, 0.0826094 , 0.375     , 0.375     ]])"
      ]
     },
     "execution_count": 30,
     "metadata": {},
     "output_type": "execute_result"
    }
   ],
   "source": [
    "pc_19"
   ]
  }
 ],
 "metadata": {
  "kernelspec": {
   "display_name": "Python 3 (ipykernel)",
   "language": "python",
   "name": "python3"
  },
  "language_info": {
   "codemirror_mode": {
    "name": "ipython",
    "version": 3
   },
   "file_extension": ".py",
   "mimetype": "text/x-python",
   "name": "python",
   "nbconvert_exporter": "python",
   "pygments_lexer": "ipython3",
   "version": "3.8.5"
  }
 },
 "nbformat": 4,
 "nbformat_minor": 5
}
